{
 "cells": [
  {
   "cell_type": "markdown",
   "metadata": {},
   "source": [
    "# Quark-Gluon (Quantum)\n",
    "\n",
    "This notebooks trains and evaluates quantum vision transformers for the quark-gluon classification task.\n",
    "You can find information about the dataset at  https://arxiv.org/abs/1902.08276."
   ]
  },
  {
   "cell_type": "code",
   "execution_count": 1,
   "metadata": {
    "execution": {
     "iopub.execute_input": "2024-04-11T03:05:08.934185Z",
     "iopub.status.busy": "2024-04-11T03:05:08.933868Z",
     "iopub.status.idle": "2024-04-11T03:05:31.521891Z",
     "shell.execute_reply": "2024-04-11T03:05:31.521480Z"
    }
   },
   "outputs": [
    {
     "name": "stderr",
     "output_type": "stream",
     "text": [
      "2024-04-10 20:05:16.162975: E tensorflow/compiler/xla/stream_executor/cuda/cuda_dnn.cc:9342] Unable to register cuDNN factory: Attempting to register factory for plugin cuDNN when one has already been registered\n",
      "2024-04-10 20:05:16.163000: E tensorflow/compiler/xla/stream_executor/cuda/cuda_fft.cc:609] Unable to register cuFFT factory: Attempting to register factory for plugin cuFFT when one has already been registered\n",
      "2024-04-10 20:05:16.163023: E tensorflow/compiler/xla/stream_executor/cuda/cuda_blas.cc:1518] Unable to register cuBLAS factory: Attempting to register factory for plugin cuBLAS when one has already been registered\n",
      "2024-04-10 20:05:19.658088: W tensorflow/compiler/tf2tensorrt/utils/py_utils.cc:38] TF-TRT Warning: Could not find TensorRT\n",
      "Please first ``pip install -U cirq`` to enable related functionality in translation module\n"
     ]
    }
   ],
   "source": [
    "import jax\n",
    "\n",
    "from quantum_transformers.utils import plot_image\n",
    "from quantum_transformers.datasets import get_quark_gluon_dataloaders\n",
    "from quantum_transformers.training import train_and_evaluate\n",
    "from quantum_transformers.transformers import VisionTransformer\n",
    "from quantum_transformers.quantum_layer import get_circuit\n",
    "\n",
    "data_dir = '/global/cfs/cdirs/m4392/salcc/data'"
   ]
  },
  {
   "cell_type": "markdown",
   "metadata": {},
   "source": [
    "The models are trained using the following devices:"
   ]
  },
  {
   "cell_type": "code",
   "execution_count": 2,
   "metadata": {
    "execution": {
     "iopub.execute_input": "2024-04-11T03:05:31.524632Z",
     "iopub.status.busy": "2024-04-11T03:05:31.524256Z",
     "iopub.status.idle": "2024-04-11T03:05:31.760476Z",
     "shell.execute_reply": "2024-04-11T03:05:31.759975Z"
    }
   },
   "outputs": [
    {
     "name": "stdout",
     "output_type": "stream",
     "text": [
      "gpu:0 NVIDIA A100-SXM4-80GB\n"
     ]
    }
   ],
   "source": [
    "for d in jax.devices():\n",
    "    print(d, d.device_kind)"
   ]
  },
  {
   "cell_type": "markdown",
   "metadata": {},
   "source": [
    "Let's check how many samples the dataset has, the shape of the input data, and how one sample looks like."
   ]
  },
  {
   "cell_type": "code",
   "execution_count": 3,
   "metadata": {
    "execution": {
     "iopub.execute_input": "2024-04-11T03:05:31.762469Z",
     "iopub.status.busy": "2024-04-11T03:05:31.762144Z",
     "iopub.status.idle": "2024-04-11T03:05:32.976583Z",
     "shell.execute_reply": "2024-04-11T03:05:32.976119Z"
    }
   },
   "outputs": [
    {
     "name": "stdout",
     "output_type": "stream",
     "text": [
      "Cardinalities (train, val, test): 714510 79390 139306\n",
      "(125, 125, 3)\n"
     ]
    },
    {
     "data": {
      "image/png": "[encoded data removed]",
      "text/plain": [
       "<Figure size 900x300 with 3 Axes>"
      ]
     },
     "metadata": {},
     "output_type": "display_data"
    }
   ],
   "source": [
    "qg_train_dataloader, qg_val_dataloader, qg_test_dataloader = get_quark_gluon_dataloaders(batch_size=256, data_dir=data_dir)\n",
    "first_image = next(iter(qg_train_dataloader))[0][0]\n",
    "print(first_image.shape)\n",
    "plot_image(first_image, abs_log=True)"
   ]
  },
  {
   "cell_type": "markdown",
   "metadata": {},
   "source": [
    "Now let's train the quantum vision transformer on the best hyperparameters found using random hyperparameter search."
   ]
  },
  {
   "cell_type": "code",
   "execution_count": 4,
   "metadata": {
    "execution": {
     "iopub.execute_input": "2024-04-11T03:05:32.978396Z",
     "iopub.status.busy": "2024-04-11T03:05:32.978197Z",
     "iopub.status.idle": "2024-04-11T22:29:15.966752Z",
     "shell.execute_reply": "2024-04-11T22:29:15.966143Z"
    }
   },
   "outputs": [
    {
     "name": "stdout",
     "output_type": "stream",
     "text": [
      "Number of parameters = 4170\n"
     ]
    },
    {
     "name": "stderr",
     "output_type": "stream",
     "text": [
      "Epoch   1/30: 100%|██████████| 2791/2791 [39:36<00:00,  1.17batch/s, Loss = 0.6577, AUC = 0.659, Train time = 1746.69s]\n",
      "Epoch   2/30: 100%|██████████| 2791/2791 [38:43<00:00,  1.20batch/s, Loss = 0.7958, AUC = 0.749, Train time = 1705.13s]\n",
      "Epoch   3/30: 100%|██████████| 2791/2791 [38:42<00:00,  1.20batch/s, Loss = 0.6787, AUC = 0.761, Train time = 1705.26s]\n",
      "Epoch   4/30: 100%|██████████| 2791/2791 [38:41<00:00,  1.20batch/s, Loss = 0.6951, AUC = 0.764, Train time = 1703.94s]\n",
      "Epoch   5/30: 100%|██████████| 2791/2791 [38:44<00:00,  1.20batch/s, Loss = 0.6523, AUC = 0.767, Train time = 1705.27s]\n",
      "Epoch   6/30: 100%|██████████| 2791/2791 [38:40<00:00,  1.20batch/s, Loss = 0.6272, AUC = 0.768, Train time = 1705.30s]\n",
      "Epoch   7/30: 100%|██████████| 2791/2791 [38:43<00:00,  1.20batch/s, Loss = 0.6039, AUC = 0.770, Train time = 1705.27s]\n",
      "Epoch   8/30: 100%|██████████| 2791/2791 [38:42<00:00,  1.20batch/s, Loss = 0.5842, AUC = 0.772, Train time = 1705.28s]\n",
      "Epoch   9/30: 100%|██████████| 2791/2791 [38:43<00:00,  1.20batch/s, Loss = 0.5896, AUC = 0.774, Train time = 1705.23s]\n",
      "Epoch  10/30: 100%|██████████| 2791/2791 [38:42<00:00,  1.20batch/s, Loss = 0.5911, AUC = 0.775, Train time = 1705.37s]\n",
      "Epoch  11/30: 100%|██████████| 2791/2791 [38:42<00:00,  1.20batch/s, Loss = 0.5937, AUC = 0.777, Train time = 1705.36s]\n",
      "Epoch  12/30: 100%|██████████| 2791/2791 [38:39<00:00,  1.20batch/s, Loss = 0.5920, AUC = 0.778, Train time = 1705.38s]\n",
      "Epoch  13/30: 100%|██████████| 2791/2791 [38:44<00:00,  1.20batch/s, Loss = 0.5921, AUC = 0.779, Train time = 1705.42s]\n",
      "Epoch  14/30: 100%|██████████| 2791/2791 [38:41<00:00,  1.20batch/s, Loss = 0.5999, AUC = 0.779, Train time = 1705.38s]\n",
      "Epoch  15/30: 100%|██████████| 2791/2791 [38:40<00:00,  1.20batch/s, Loss = 0.6012, AUC = 0.780, Train time = 1705.41s]\n",
      "Epoch  16/30: 100%|██████████| 2791/2791 [38:43<00:00,  1.20batch/s, Loss = 0.5990, AUC = 0.780, Train time = 1705.43s]\n",
      "Epoch  17/30: 100%|██████████| 2791/2791 [38:42<00:00,  1.20batch/s, Loss = 0.6028, AUC = 0.780, Train time = 1705.19s]\n",
      "Epoch  18/30: 100%|██████████| 2791/2791 [38:40<00:00,  1.20batch/s, Loss = 0.6034, AUC = 0.780, Train time = 1704.46s]\n",
      "Epoch  19/30: 100%|██████████| 2791/2791 [38:40<00:00,  1.20batch/s, Loss = 0.6033, AUC = 0.780, Train time = 1704.08s]\n",
      "Epoch  20/30: 100%|██████████| 2791/2791 [38:39<00:00,  1.20batch/s, Loss = 0.6034, AUC = 0.780, Train time = 1704.33s]\n",
      "Epoch  21/30: 100%|██████████| 2791/2791 [38:41<00:00,  1.20batch/s, Loss = 0.6034, AUC = 0.780, Train time = 1704.40s]\n",
      "Epoch  22/30: 100%|██████████| 2791/2791 [38:39<00:00,  1.20batch/s, Loss = 0.6034, AUC = 0.780, Train time = 1704.22s]\n",
      "Epoch  23/30: 100%|██████████| 2791/2791 [38:41<00:00,  1.20batch/s, Loss = 0.6034, AUC = 0.780, Train time = 1704.50s]\n",
      "Epoch  24/30: 100%|██████████| 2791/2791 [38:37<00:00,  1.20batch/s, Loss = 0.6033, AUC = 0.780, Train time = 1704.31s]\n",
      "Epoch  25/30: 100%|██████████| 2791/2791 [38:41<00:00,  1.20batch/s, Loss = 0.6033, AUC = 0.780, Train time = 1704.50s]\n",
      "Epoch  26/30: 100%|██████████| 2791/2791 [38:39<00:00,  1.20batch/s, Loss = 0.6034, AUC = 0.780, Train time = 1704.81s]\n",
      "Epoch  27/30: 100%|██████████| 2791/2791 [38:41<00:00,  1.20batch/s, Loss = 0.6034, AUC = 0.780, Train time = 1704.40s]\n",
      "Epoch  28/30: 100%|██████████| 2791/2791 [38:38<00:00,  1.20batch/s, Loss = 0.6034, AUC = 0.780, Train time = 1704.49s]\n",
      "Epoch  29/30: 100%|██████████| 2791/2791 [38:41<00:00,  1.20batch/s, Loss = 0.6034, AUC = 0.780, Train time = 1704.52s]\n",
      "Epoch  30/30: 100%|██████████| 2791/2791 [38:39<00:00,  1.20batch/s, Loss = 0.6034, AUC = 0.780, Train time = 1704.41s]\n"
     ]
    },
    {
     "name": "stdout",
     "output_type": "stream",
     "text": [
      "Best validation AUC = 0.780 at epoch 25\n",
      "Total training time = 51187.73s, total time (including evaluations) = 69696.81s\n"
     ]
    },
    {
     "name": "stderr",
     "output_type": "stream",
     "text": [
      "Testing: 100%|██████████| 544/544 [01:48<00:00,  5.02batch/s, Loss = 0.6120, AUC = 0.775]\n"
     ]
    }
   ],
   "source": [
    "model = VisionTransformer(num_classes=2, patch_size=10, hidden_size=8, num_heads=2, num_transformer_blocks=4, mlp_hidden_size=4,\n",
    "                          quantum_attn_circuit=get_circuit(), quantum_mlp_circuit=get_circuit())\n",
    "metrics = train_and_evaluate(model, qg_train_dataloader, qg_val_dataloader, qg_test_dataloader, num_classes=2, num_epochs=30)"
   ]
  },
  {
   "cell_type": "code",
   "execution_count": 5,
   "metadata": {
    "execution": {
     "iopub.execute_input": "2024-04-11T22:29:15.982686Z",
     "iopub.status.busy": "2024-04-11T22:29:15.982505Z",
     "iopub.status.idle": "2024-04-11T22:29:16.072891Z",
     "shell.execute_reply": "2024-04-11T22:29:16.072302Z"
    }
   },
   "outputs": [],
   "source": [
    "import pickle\n",
    "with open('qg_metrics.pkl', 'wb') as f:\n",
    "    pickle.dump(metrics, f)"
   ]
  }
 ],
 "metadata": {
  "kernelspec": {
   "display_name": "gsoc",
   "language": "python",
   "name": "gsoc"
  },
  "language_info": {
   "codemirror_mode": {
    "name": "ipython",
    "version": 3
   },
   "file_extension": ".py",
   "mimetype": "text/x-python",
   "name": "python",
   "nbconvert_exporter": "python",
   "pygments_lexer": "ipython3",
   "version": "3.11.4"
  }
 },
 "nbformat": 4,
 "nbformat_minor": 2
}

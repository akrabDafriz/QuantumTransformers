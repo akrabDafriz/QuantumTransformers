{
 "cells": [
  {
   "cell_type": "markdown",
   "metadata": {},
   "source": [
    "# MNIST Digits (Quantum)\n",
    "\n",
    "This notebooks trains and evaluates quantum vision transformers for the MNIST Digits classification task.\n",
    "You can find information about the dataset at https://www.tensorflow.org/datasets/catalog/mnist."
   ]
  },
  {
   "cell_type": "code",
   "execution_count": 1,
   "metadata": {
    "execution": {
     "iopub.execute_input": "2023-10-09T22:09:15.390864Z",
     "iopub.status.busy": "2023-10-09T22:09:15.390733Z",
     "iopub.status.idle": "2023-10-09T22:09:23.172591Z",
     "shell.execute_reply": "2023-10-09T22:09:23.172152Z"
    }
   },
   "outputs": [
    {
     "name": "stderr",
     "output_type": "stream",
     "text": [
      "2023-10-09 15:09:18.296794: E tensorflow/compiler/xla/stream_executor/cuda/cuda_dnn.cc:9342] Unable to register cuDNN factory: Attempting to register factory for plugin cuDNN when one has already been registered\n",
      "2023-10-09 15:09:18.296822: E tensorflow/compiler/xla/stream_executor/cuda/cuda_fft.cc:609] Unable to register cuFFT factory: Attempting to register factory for plugin cuFFT when one has already been registered\n",
      "2023-10-09 15:09:18.296844: E tensorflow/compiler/xla/stream_executor/cuda/cuda_blas.cc:1518] Unable to register cuBLAS factory: Attempting to register factory for plugin cuBLAS when one has already been registered\n",
      "2023-10-09 15:09:19.733928: W tensorflow/compiler/tf2tensorrt/utils/py_utils.cc:38] TF-TRT Warning: Could not find TensorRT\n",
      "Please first ``pip install -U cirq`` to enable related functionality in translation module\n"
     ]
    }
   ],
   "source": [
    "import jax\n",
    "\n",
    "from quantum_transformers.utils import plot_image\n",
    "from quantum_transformers.datasets import get_mnist_dataloaders\n",
    "from quantum_transformers.training import train_and_evaluate\n",
    "from quantum_transformers.transformers import VisionTransformer\n",
    "from quantum_transformers.quantum_layer import get_circuit\n",
    "\n",
    "data_dir = '/global/cfs/cdirs/m4392/salcc/data'"
   ]
  },
  {
   "cell_type": "markdown",
   "metadata": {},
   "source": [
    "The models are trained using the following devices:"
   ]
  },
  {
   "cell_type": "code",
   "execution_count": 2,
   "metadata": {
    "execution": {
     "iopub.execute_input": "2023-10-09T22:09:23.174932Z",
     "iopub.status.busy": "2023-10-09T22:09:23.174578Z",
     "iopub.status.idle": "2023-10-09T22:09:23.381262Z",
     "shell.execute_reply": "2023-10-09T22:09:23.380801Z"
    }
   },
   "outputs": [
    {
     "name": "stdout",
     "output_type": "stream",
     "text": [
      "gpu:0 NVIDIA A100-SXM4-40GB\n"
     ]
    }
   ],
   "source": [
    "for d in jax.devices():\n",
    "    print(d, d.device_kind)"
   ]
  },
  {
   "cell_type": "markdown",
   "metadata": {},
   "source": [
    "Let's check how many samples the dataset has, the shape of the input data, and how one sample looks like."
   ]
  },
  {
   "cell_type": "code",
   "execution_count": 3,
   "metadata": {
    "execution": {
     "iopub.execute_input": "2023-10-09T22:09:23.382956Z",
     "iopub.status.busy": "2023-10-09T22:09:23.382812Z",
     "iopub.status.idle": "2023-10-09T22:09:23.937202Z",
     "shell.execute_reply": "2023-10-09T22:09:23.936769Z"
    }
   },
   "outputs": [
    {
     "name": "stdout",
     "output_type": "stream",
     "text": [
      "Cardinalities (train, val, test): 54000 6000 10000\n",
      "(28, 28, 1)\n"
     ]
    },
    {
     "name": "stderr",
     "output_type": "stream",
     "text": [
      "2023-10-09 15:09:23.844425: W tensorflow/core/kernels/data/cache_dataset_ops.cc:854] The calling iterator did not fully read the dataset being cached. In order to avoid unexpected truncation of the dataset, the partially cached contents of the dataset  will be discarded. This can happen if you have an input pipeline similar to `dataset.cache().take(k).repeat()`. You should use `dataset.take(k).cache().repeat()` instead.\n"
     ]
    },
    {
     "data": {
      "image/png": "[encoded data removed]",
      "text/plain": [
       "<Figure size 300x300 with 1 Axes>"
      ]
     },
     "metadata": {},
     "output_type": "display_data"
    }
   ],
   "source": [
    "mnist_train_dataloader, mnist_valid_dataloader, mnist_test_dataloader = get_mnist_dataloaders(batch_size=64, data_dir=data_dir)\n",
    "first_image = next(iter(mnist_train_dataloader))[0][0]\n",
    "print(first_image.shape)\n",
    "plot_image(first_image)"
   ]
  },
  {
   "cell_type": "markdown",
   "metadata": {},
   "source": [
    "Now let's train the quantum vision transformer on the best hyperparameters found using random hyperparameter search."
   ]
  },
  {
   "cell_type": "code",
   "execution_count": 4,
   "metadata": {
    "execution": {
     "iopub.execute_input": "2023-10-09T22:09:23.939000Z",
     "iopub.status.busy": "2023-10-09T22:09:23.938737Z",
     "iopub.status.idle": "2023-10-09T22:15:17.805879Z",
     "shell.execute_reply": "2023-10-09T22:15:17.805358Z"
    }
   },
   "outputs": [
    {
     "name": "stderr",
     "output_type": "stream",
     "text": [
      "2023-10-09 15:09:25.510151: W tensorflow/core/kernels/data/cache_dataset_ops.cc:854] The calling iterator did not fully read the dataset being cached. In order to avoid unexpected truncation of the dataset, the partially cached contents of the dataset  will be discarded. This can happen if you have an input pipeline similar to `dataset.cache().take(k).repeat()`. You should use `dataset.take(k).cache().repeat()` instead.\n"
     ]
    },
    {
     "name": "stdout",
     "output_type": "stream",
     "text": [
      "Number of parameters = 1672\n"
     ]
    },
    {
     "name": "stderr",
     "output_type": "stream",
     "text": [
      "Epoch   1/30: 100%|██████████| 843/843 [00:46<00:00, 18.32batch/s, Loss = 1.8906, AUC = 79.17%] \n",
      "Epoch   2/30: 100%|██████████| 843/843 [00:10<00:00, 83.93batch/s, Loss = 1.4022, AUC = 92.00%] \n",
      "Epoch   3/30: 100%|██████████| 843/843 [00:09<00:00, 85.68batch/s, Loss = 0.9424, AUC = 95.62%] \n",
      "Epoch   4/30: 100%|██████████| 843/843 [00:10<00:00, 82.76batch/s, Loss = 0.7218, AUC = 96.88%] \n",
      "Epoch   5/30: 100%|██████████| 843/843 [00:10<00:00, 83.92batch/s, Loss = 0.6324, AUC = 97.40%] \n",
      "Epoch   6/30: 100%|██████████| 843/843 [00:10<00:00, 82.51batch/s, Loss = 0.5749, AUC = 97.80%] \n",
      "Epoch   7/30: 100%|██████████| 843/843 [00:10<00:00, 82.99batch/s, Loss = 0.5245, AUC = 98.17%] \n",
      "Epoch   8/30: 100%|██████████| 843/843 [00:09<00:00, 85.52batch/s, Loss = 0.4905, AUC = 98.38%] \n",
      "Epoch   9/30: 100%|██████████| 843/843 [00:10<00:00, 84.11batch/s, Loss = 0.4669, AUC = 98.53%] \n",
      "Epoch  10/30: 100%|██████████| 843/843 [00:10<00:00, 84.09batch/s, Loss = 0.4496, AUC = 98.60%] \n",
      "Epoch  11/30: 100%|██████████| 843/843 [00:10<00:00, 83.29batch/s, Loss = 0.4401, AUC = 98.66%] \n",
      "Epoch  12/30: 100%|██████████| 843/843 [00:10<00:00, 83.55batch/s, Loss = 0.4298, AUC = 98.71%] \n",
      "Epoch  13/30: 100%|██████████| 843/843 [00:10<00:00, 82.63batch/s, Loss = 0.4252, AUC = 98.71%] \n",
      "Epoch  14/30: 100%|██████████| 843/843 [00:09<00:00, 84.73batch/s, Loss = 0.4245, AUC = 98.73%] \n",
      "Epoch  15/30: 100%|██████████| 843/843 [00:10<00:00, 83.83batch/s, Loss = 0.4202, AUC = 98.74%] \n",
      "Epoch  16/30: 100%|██████████| 843/843 [00:10<00:00, 83.32batch/s, Loss = 0.4198, AUC = 98.74%] \n",
      "Epoch  17/30: 100%|██████████| 843/843 [00:10<00:00, 83.81batch/s, Loss = 0.4129, AUC = 98.78%] \n",
      "Epoch  18/30: 100%|██████████| 843/843 [00:10<00:00, 84.02batch/s, Loss = 0.4110, AUC = 98.79%] \n",
      "Epoch  19/30: 100%|██████████| 843/843 [00:09<00:00, 85.09batch/s, Loss = 0.4092, AUC = 98.79%] \n",
      "Epoch  20/30: 100%|██████████| 843/843 [00:10<00:00, 82.77batch/s, Loss = 0.4078, AUC = 98.79%] \n",
      "Epoch  21/30: 100%|██████████| 843/843 [00:10<00:00, 83.16batch/s, Loss = 0.4095, AUC = 98.80%] \n",
      "Epoch  22/30: 100%|██████████| 843/843 [00:10<00:00, 83.46batch/s, Loss = 0.3957, AUC = 98.87%] \n",
      "Epoch  23/30: 100%|██████████| 843/843 [00:10<00:00, 82.74batch/s, Loss = 0.3985, AUC = 98.84%] \n",
      "Epoch  24/30: 100%|██████████| 843/843 [00:09<00:00, 84.52batch/s, Loss = 0.3949, AUC = 98.87%] \n",
      "Epoch  25/30: 100%|██████████| 843/843 [00:10<00:00, 82.83batch/s, Loss = 0.3904, AUC = 98.88%] \n",
      "Epoch  26/30: 100%|██████████| 843/843 [00:10<00:00, 83.04batch/s, Loss = 0.3942, AUC = 98.86%] \n",
      "Epoch  27/30: 100%|██████████| 843/843 [00:10<00:00, 81.78batch/s, Loss = 0.3868, AUC = 98.90%] \n",
      "Epoch  28/30: 100%|██████████| 843/843 [00:10<00:00, 83.19batch/s, Loss = 0.3880, AUC = 98.91%] \n",
      "Epoch  29/30: 100%|██████████| 843/843 [00:09<00:00, 85.41batch/s, Loss = 0.3834, AUC = 98.92%] \n",
      "Epoch  30/30: 100%|██████████| 843/843 [00:10<00:00, 83.15batch/s, Loss = 0.3831, AUC = 98.91%] \n"
     ]
    },
    {
     "name": "stdout",
     "output_type": "stream",
     "text": [
      "Total training time = 338.45s, best validation AUC = 98.92% at epoch 29\n"
     ]
    },
    {
     "name": "stderr",
     "output_type": "stream",
     "text": [
      "Testing: 100%|██████████| 156/156 [00:04<00:00, 38.56batch/s, Loss = 0.3841, AUC = 98.94%] \n"
     ]
    },
    {
     "data": {
      "text/plain": [
       "(Array(0.38410008, dtype=float32), 98.94037686108435, [], [])"
      ]
     },
     "execution_count": 4,
     "metadata": {},
     "output_type": "execute_result"
    }
   ],
   "source": [
    "model = VisionTransformer(num_classes=10, patch_size=14, hidden_size=6, num_heads=2, num_transformer_blocks=4, mlp_hidden_size=3,\n",
    "                          quantum_attn_circuit=get_circuit(), quantum_mlp_circuit=get_circuit())\n",
    "train_and_evaluate(model, mnist_train_dataloader, mnist_valid_dataloader, mnist_test_dataloader, num_classes=10, num_epochs=30)"
   ]
  }
 ],
 "metadata": {
  "kernelspec": {
   "display_name": "gsoc",
   "language": "python",
   "name": "python3"
  },
  "language_info": {
   "codemirror_mode": {
    "name": "ipython",
    "version": 3
   },
   "file_extension": ".py",
   "mimetype": "text/x-python",
   "name": "python",
   "nbconvert_exporter": "python",
   "pygments_lexer": "ipython3",
   "version": "3.11.4"
  }
 },
 "nbformat": 4,
 "nbformat_minor": 2
}

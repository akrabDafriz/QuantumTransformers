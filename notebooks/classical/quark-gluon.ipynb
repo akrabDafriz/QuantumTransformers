{
 "cells": [
  {
   "cell_type": "markdown",
   "metadata": {},
   "source": [
    "# Quark-Gluon (Classical)\n",
    "\n",
    "This notebook trains and evaluates classical baselines for the quark-gluon classification task.\n",
    "You can find information about the dataset at https://arxiv.org/abs/1902.08276."
   ]
  },
  {
   "cell_type": "code",
   "execution_count": 1,
   "metadata": {
    "execution": {
     "iopub.execute_input": "2024-04-10T18:48:08.023073Z",
     "iopub.status.busy": "2024-04-10T18:48:08.022956Z",
     "iopub.status.idle": "2024-04-10T18:48:27.364053Z",
     "shell.execute_reply": "2024-04-10T18:48:27.363566Z"
    }
   },
   "outputs": [
    {
     "name": "stderr",
     "output_type": "stream",
     "text": [
      "2024-04-10 11:48:10.577011: E tensorflow/compiler/xla/stream_executor/cuda/cuda_dnn.cc:9342] Unable to register cuDNN factory: Attempting to register factory for plugin cuDNN when one has already been registered\n",
      "2024-04-10 11:48:10.577042: E tensorflow/compiler/xla/stream_executor/cuda/cuda_fft.cc:609] Unable to register cuFFT factory: Attempting to register factory for plugin cuFFT when one has already been registered\n",
      "2024-04-10 11:48:10.577068: E tensorflow/compiler/xla/stream_executor/cuda/cuda_blas.cc:1518] Unable to register cuBLAS factory: Attempting to register factory for plugin cuBLAS when one has already been registered\n",
      "2024-04-10 11:48:13.647521: W tensorflow/compiler/tf2tensorrt/utils/py_utils.cc:38] TF-TRT Warning: Could not find TensorRT\n",
      "Please first ``pip install -U cirq`` to enable related functionality in translation module\n"
     ]
    }
   ],
   "source": [
    "import jax\n",
    "import tensorflow as tf\n",
    "tf.config.set_visible_devices([], device_type='GPU')  # Ensure TF does not see GPU and grab all GPU memory.\n",
    "tf.random.set_seed(42)  # For reproducibility.\n",
    "\n",
    "from quantum_transformers.utils import plot_image\n",
    "from quantum_transformers.datasets import get_quark_gluon_dataloaders\n",
    "from quantum_transformers.training import train_and_evaluate\n",
    "from quantum_transformers.transformers import VisionTransformer\n",
    "\n",
    "data_dir = '/global/cfs/cdirs/m4392/salcc/data'"
   ]
  },
  {
   "cell_type": "markdown",
   "metadata": {},
   "source": [
    "The models are trained using the following devices:"
   ]
  },
  {
   "cell_type": "code",
   "execution_count": 2,
   "metadata": {
    "execution": {
     "iopub.execute_input": "2024-04-10T18:48:27.366524Z",
     "iopub.status.busy": "2024-04-10T18:48:27.366152Z",
     "iopub.status.idle": "2024-04-10T18:48:27.660253Z",
     "shell.execute_reply": "2024-04-10T18:48:27.659731Z"
    }
   },
   "outputs": [
    {
     "name": "stdout",
     "output_type": "stream",
     "text": [
      "gpu:0 NVIDIA A100-SXM4-80GB\n"
     ]
    }
   ],
   "source": [
    "for d in jax.devices():\n",
    "    print(d, d.device_kind)"
   ]
  },
  {
   "cell_type": "markdown",
   "metadata": {},
   "source": [
    "Let's check how many samples the dataset has, the shape of the input data, and how one sample looks like."
   ]
  },
  {
   "cell_type": "code",
   "execution_count": 3,
   "metadata": {
    "execution": {
     "iopub.execute_input": "2024-04-10T18:48:27.662164Z",
     "iopub.status.busy": "2024-04-10T18:48:27.662016Z",
     "iopub.status.idle": "2024-04-10T18:48:28.894510Z",
     "shell.execute_reply": "2024-04-10T18:48:28.894048Z"
    }
   },
   "outputs": [
    {
     "name": "stdout",
     "output_type": "stream",
     "text": [
      "Cardinalities (train, val, test): 714510 79390 139306\n",
      "(125, 125, 3)\n"
     ]
    },
    {
     "data": {
      "image/png": "[encoded data removed]",
      "text/plain": [
       "<Figure size 900x300 with 3 Axes>"
      ]
     },
     "metadata": {},
     "output_type": "display_data"
    }
   ],
   "source": [
    "qg_train_dataloader, qg_val_dataloader, qg_test_dataloader = get_quark_gluon_dataloaders(batch_size=256, data_dir=data_dir)\n",
    "first_image = next(iter(qg_train_dataloader))[0][0]\n",
    "print(first_image.shape)\n",
    "plot_image(first_image, abs_log=True)"
   ]
  },
  {
   "cell_type": "markdown",
   "metadata": {},
   "source": [
    "Next, we train a ViT that obtains a good AUC score on the test set (hyperparameters found by random hyperparameter search)."
   ]
  },
  {
   "cell_type": "code",
   "execution_count": 4,
   "metadata": {
    "execution": {
     "iopub.execute_input": "2024-04-10T18:48:28.896417Z",
     "iopub.status.busy": "2024-04-10T18:48:28.896149Z",
     "iopub.status.idle": "2024-04-10T20:25:50.506300Z",
     "shell.execute_reply": "2024-04-10T20:25:50.505723Z"
    }
   },
   "outputs": [
    {
     "name": "stdout",
     "output_type": "stream",
     "text": [
      "Number of parameters = 5178\n"
     ]
    },
    {
     "name": "stderr",
     "output_type": "stream",
     "text": [
      "Epoch   1/30: 100%|██████████| 2791/2791 [03:21<00:00, 13.83batch/s, Loss = 0.5929, AUC = 0.757, Train time = 64.40s]\n",
      "Epoch   2/30: 100%|██████████| 2791/2791 [03:13<00:00, 14.39batch/s, Loss = 0.5633, AUC = 0.785, Train time = 59.70s]\n",
      "Epoch   3/30: 100%|██████████| 2791/2791 [03:10<00:00, 14.62batch/s, Loss = 0.5558, AUC = 0.790, Train time = 60.29s]\n",
      "Epoch   4/30: 100%|██████████| 2791/2791 [03:11<00:00, 14.60batch/s, Loss = 0.5602, AUC = 0.792, Train time = 60.14s]\n",
      "Epoch   5/30: 100%|██████████| 2791/2791 [03:14<00:00, 14.36batch/s, Loss = 0.5578, AUC = 0.793, Train time = 60.45s]\n",
      "Epoch   6/30: 100%|██████████| 2791/2791 [03:14<00:00, 14.33batch/s, Loss = 0.5661, AUC = 0.794, Train time = 60.68s]\n",
      "Epoch   7/30: 100%|██████████| 2791/2791 [03:13<00:00, 14.45batch/s, Loss = 0.5586, AUC = 0.794, Train time = 60.34s]\n",
      "Epoch   8/30: 100%|██████████| 2791/2791 [03:14<00:00, 14.38batch/s, Loss = 0.5517, AUC = 0.794, Train time = 60.66s]\n",
      "Epoch   9/30: 100%|██████████| 2791/2791 [03:14<00:00, 14.38batch/s, Loss = 0.5542, AUC = 0.795, Train time = 60.35s]\n",
      "Epoch  10/30: 100%|██████████| 2791/2791 [03:13<00:00, 14.43batch/s, Loss = 0.5505, AUC = 0.796, Train time = 60.83s]\n",
      "Epoch  11/30: 100%|██████████| 2791/2791 [03:11<00:00, 14.55batch/s, Loss = 0.5540, AUC = 0.796, Train time = 60.35s]\n",
      "Epoch  12/30: 100%|██████████| 2791/2791 [03:11<00:00, 14.55batch/s, Loss = 0.5520, AUC = 0.796, Train time = 60.32s]\n",
      "Epoch  13/30: 100%|██████████| 2791/2791 [03:11<00:00, 14.55batch/s, Loss = 0.5518, AUC = 0.796, Train time = 60.37s]\n",
      "Epoch  14/30: 100%|██████████| 2791/2791 [03:13<00:00, 14.44batch/s, Loss = 0.5530, AUC = 0.796, Train time = 60.22s]\n",
      "Epoch  15/30: 100%|██████████| 2791/2791 [03:13<00:00, 14.41batch/s, Loss = 0.5512, AUC = 0.797, Train time = 60.38s]\n",
      "Epoch  16/30: 100%|██████████| 2791/2791 [03:14<00:00, 14.35batch/s, Loss = 0.5505, AUC = 0.797, Train time = 60.76s]\n",
      "Epoch  17/30: 100%|██████████| 2791/2791 [03:12<00:00, 14.47batch/s, Loss = 0.5514, AUC = 0.797, Train time = 60.36s]\n",
      "Epoch  18/30: 100%|██████████| 2791/2791 [03:14<00:00, 14.33batch/s, Loss = 0.5517, AUC = 0.797, Train time = 60.50s]\n",
      "Epoch  19/30: 100%|██████████| 2791/2791 [03:11<00:00, 14.55batch/s, Loss = 0.5517, AUC = 0.797, Train time = 60.33s]\n",
      "Epoch  20/30: 100%|██████████| 2791/2791 [03:12<00:00, 14.48batch/s, Loss = 0.5517, AUC = 0.797, Train time = 60.47s]\n",
      "Epoch  21/30: 100%|██████████| 2791/2791 [03:13<00:00, 14.41batch/s, Loss = 0.5518, AUC = 0.797, Train time = 60.35s]\n",
      "Epoch  22/30: 100%|██████████| 2791/2791 [03:13<00:00, 14.45batch/s, Loss = 0.5517, AUC = 0.797, Train time = 60.25s]\n",
      "Epoch  23/30: 100%|██████████| 2791/2791 [03:14<00:00, 14.32batch/s, Loss = 0.5517, AUC = 0.797, Train time = 60.29s]\n",
      "Epoch  24/30: 100%|██████████| 2791/2791 [03:14<00:00, 14.37batch/s, Loss = 0.5517, AUC = 0.797, Train time = 60.38s]\n",
      "Epoch  25/30: 100%|██████████| 2791/2791 [03:11<00:00, 14.54batch/s, Loss = 0.5516, AUC = 0.797, Train time = 60.31s]\n",
      "Epoch  26/30: 100%|██████████| 2791/2791 [03:14<00:00, 14.32batch/s, Loss = 0.5517, AUC = 0.797, Train time = 60.42s]\n",
      "Epoch  27/30: 100%|██████████| 2791/2791 [03:11<00:00, 14.58batch/s, Loss = 0.5518, AUC = 0.797, Train time = 60.31s]\n",
      "Epoch  28/30: 100%|██████████| 2791/2791 [03:14<00:00, 14.35batch/s, Loss = 0.5517, AUC = 0.797, Train time = 61.02s]\n",
      "Epoch  29/30: 100%|██████████| 2791/2791 [03:13<00:00, 14.40batch/s, Loss = 0.5517, AUC = 0.797, Train time = 60.15s]\n",
      "Epoch  30/30: 100%|██████████| 2791/2791 [03:12<00:00, 14.51batch/s, Loss = 0.5517, AUC = 0.797, Train time = 60.70s]\n"
     ]
    },
    {
     "name": "stdout",
     "output_type": "stream",
     "text": [
      "Best validation AUC = 0.797 at epoch 16\n",
      "Total training time = 1816.05s, total time (including evaluations) = 5806.49s\n"
     ]
    },
    {
     "name": "stderr",
     "output_type": "stream",
     "text": [
      "Testing: 100%|██████████| 544/544 [00:23<00:00, 23.19batch/s, Loss = 0.5560, AUC = 0.793]\n"
     ]
    }
   ],
   "source": [
    "model = VisionTransformer(num_classes=2, patch_size=10, hidden_size=8, num_heads=2, num_transformer_blocks=4, mlp_hidden_size=4)\n",
    "metrics = train_and_evaluate(model, qg_train_dataloader, qg_val_dataloader, qg_test_dataloader, num_classes=2, num_epochs=30)"
   ]
  },
  {
   "cell_type": "code",
   "execution_count": 5,
   "metadata": {
    "execution": {
     "iopub.execute_input": "2024-04-10T20:25:50.525258Z",
     "iopub.status.busy": "2024-04-10T20:25:50.525076Z",
     "iopub.status.idle": "2024-04-10T20:25:50.617677Z",
     "shell.execute_reply": "2024-04-10T20:25:50.617107Z"
    }
   },
   "outputs": [],
   "source": [
    "import pickle\n",
    "with open('qg_metrics.pkl', 'wb') as f:\n",
    "    pickle.dump(metrics, f)"
   ]
  }
 ],
 "metadata": {
  "kernelspec": {
   "display_name": "gsoc",
   "language": "python",
   "name": "python3"
  },
  "language_info": {
   "codemirror_mode": {
    "name": "ipython",
    "version": 3
   },
   "file_extension": ".py",
   "mimetype": "text/x-python",
   "name": "python",
   "nbconvert_exporter": "python",
   "pygments_lexer": "ipython3",
   "version": "3.11.4"
  }
 },
 "nbformat": 4,
 "nbformat_minor": 2
}

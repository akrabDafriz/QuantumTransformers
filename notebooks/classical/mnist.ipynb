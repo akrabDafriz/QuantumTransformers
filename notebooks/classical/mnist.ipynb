{
 "cells": [
  {
   "cell_type": "markdown",
   "metadata": {},
   "source": [
    "# MNIST Digits (Classical)\n",
    "\n",
    "This notebook trains and evaluates classical baselines for the MNIST Digits classification task.\n",
    "You can find information about the dataset at https://www.tensorflow.org/datasets/catalog/mnist."
   ]
  },
  {
   "cell_type": "code",
   "execution_count": 1,
   "metadata": {
    "execution": {
     "iopub.execute_input": "2023-08-27T14:21:10.745664Z",
     "iopub.status.busy": "2023-08-27T14:21:10.745549Z",
     "iopub.status.idle": "2023-08-27T14:21:30.892192Z",
     "shell.execute_reply": "2023-08-27T14:21:30.891788Z"
    }
   },
   "outputs": [
    {
     "name": "stderr",
     "output_type": "stream",
     "text": [
      "2023-08-27 07:21:12.776222: E tensorflow/compiler/xla/stream_executor/cuda/cuda_dnn.cc:9342] Unable to register cuDNN factory: Attempting to register factory for plugin cuDNN when one has already been registered\n",
      "2023-08-27 07:21:12.776242: E tensorflow/compiler/xla/stream_executor/cuda/cuda_fft.cc:609] Unable to register cuFFT factory: Attempting to register factory for plugin cuFFT when one has already been registered\n",
      "2023-08-27 07:21:12.776257: E tensorflow/compiler/xla/stream_executor/cuda/cuda_blas.cc:1518] Unable to register cuBLAS factory: Attempting to register factory for plugin cuBLAS when one has already been registered\n",
      "2023-08-27 07:21:15.456175: W tensorflow/compiler/tf2tensorrt/utils/py_utils.cc:38] TF-TRT Warning: Could not find TensorRT\n"
     ]
    },
    {
     "name": "stdout",
     "output_type": "stream",
     "text": [
      "WARNING:tensorflow:From /global/common/software/m4392/conda/gsoc/lib/python3.11/site-packages/tensorflow/python/ops/distributions/distribution.py:259: ReparameterizationType.__init__ (from tensorflow.python.ops.distributions.distribution) is deprecated and will be removed after 2019-01-01.\n",
      "Instructions for updating:\n",
      "The TensorFlow Distributions library has moved to TensorFlow Probability (https://github.com/tensorflow/probability). You should update all references to use `tfp.distributions` instead of `tf.distributions`.\n",
      "WARNING:tensorflow:From /global/common/software/m4392/conda/gsoc/lib/python3.11/site-packages/tensorflow/python/ops/distributions/bernoulli.py:165: RegisterKL.__init__ (from tensorflow.python.ops.distributions.kullback_leibler) is deprecated and will be removed after 2019-01-01.\n",
      "Instructions for updating:\n",
      "The TensorFlow Distributions library has moved to TensorFlow Probability (https://github.com/tensorflow/probability). You should update all references to use `tfp.distributions` instead of `tf.distributions`.\n"
     ]
    },
    {
     "name": "stderr",
     "output_type": "stream",
     "text": [
      "Please first ``pip install -U cirq`` to enable related functionality in translation module\n"
     ]
    }
   ],
   "source": [
    "import jax\n",
    "import tensorflow as tf\n",
    "tf.config.set_visible_devices([], device_type='GPU')  # Ensure TF does not see GPU and grab all GPU memory.\n",
    "tf.random.set_seed(42)  # For reproducibility.\n",
    "\n",
    "from quantum_transformers.utils import plot_image\n",
    "from quantum_transformers.datasets import get_mnist_dataloaders\n",
    "from quantum_transformers.training import train_and_evaluate\n",
    "from quantum_transformers.transformers import VisionTransformer\n",
    "\n",
    "data_dir = '/global/cfs/cdirs/m4392/salcc/data'"
   ]
  },
  {
   "cell_type": "markdown",
   "metadata": {},
   "source": [
    "The models are trained using the following devices:"
   ]
  },
  {
   "cell_type": "code",
   "execution_count": 2,
   "metadata": {
    "execution": {
     "iopub.execute_input": "2023-08-27T14:21:30.894393Z",
     "iopub.status.busy": "2023-08-27T14:21:30.894028Z",
     "iopub.status.idle": "2023-08-27T14:21:31.188833Z",
     "shell.execute_reply": "2023-08-27T14:21:31.188471Z"
    }
   },
   "outputs": [
    {
     "name": "stdout",
     "output_type": "stream",
     "text": [
      "gpu:0 NVIDIA A100-SXM4-40GB\n"
     ]
    }
   ],
   "source": [
    "for d in jax.devices():\n",
    "    print(d, d.device_kind)"
   ]
  },
  {
   "cell_type": "markdown",
   "metadata": {},
   "source": [
    "Let's check how many samples the dataset has, the shape of the input data, and how one sample looks like."
   ]
  },
  {
   "cell_type": "code",
   "execution_count": 3,
   "metadata": {
    "execution": {
     "iopub.execute_input": "2023-08-27T14:21:31.190537Z",
     "iopub.status.busy": "2023-08-27T14:21:31.190329Z",
     "iopub.status.idle": "2023-08-27T14:21:32.235784Z",
     "shell.execute_reply": "2023-08-27T14:21:32.235339Z"
    }
   },
   "outputs": [
    {
     "name": "stdout",
     "output_type": "stream",
     "text": [
      "(28, 28, 1)\n"
     ]
    },
    {
     "data": {
      "image/png": "[encoded data removed]",
      "text/plain": [
       "<Figure size 300x300 with 1 Axes>"
      ]
     },
     "metadata": {},
     "output_type": "display_data"
    }
   ],
   "source": [
    "mnist_train_dataloader, mnist_val_dataloader, mnist_test_dataloader = get_mnist_dataloaders(batch_size=64, data_dir=data_dir)\n",
    "first_image = next(iter(mnist_train_dataloader))[0][0]\n",
    "print(first_image.shape)\n",
    "plot_image(first_image)"
   ]
  },
  {
   "cell_type": "markdown",
   "metadata": {},
   "source": [
    "Next, we train a big ViT that obtains a good AUC score on the test set (hyperparameters found by random hyperparameter search). Note however that this model size is too big to be replicated on a quantum computer currently."
   ]
  },
  {
   "cell_type": "code",
   "execution_count": 4,
   "metadata": {
    "execution": {
     "iopub.execute_input": "2023-08-27T14:21:32.237497Z",
     "iopub.status.busy": "2023-08-27T14:21:32.237322Z",
     "iopub.status.idle": "2023-08-27T14:23:50.385377Z",
     "shell.execute_reply": "2023-08-27T14:23:50.384838Z"
    }
   },
   "outputs": [
    {
     "name": "stderr",
     "output_type": "stream",
     "text": [
      "Epoch   1/30: 100%|██████████| 843/843 [00:10<00:00, 77.73batch/s, Loss = 0.3935, AUC = 98.97%] \n",
      "Epoch   2/30: 100%|██████████| 843/843 [00:04<00:00, 204.47batch/s, Loss = 0.1990, AUC = 99.68%]\n",
      "Epoch   3/30: 100%|██████████| 843/843 [00:03<00:00, 220.49batch/s, Loss = 0.1517, AUC = 99.82%]\n",
      "Epoch   4/30: 100%|██████████| 843/843 [00:03<00:00, 222.94batch/s, Loss = 0.1221, AUC = 99.88%]\n",
      "Epoch   5/30: 100%|██████████| 843/843 [00:03<00:00, 225.77batch/s, Loss = 0.1156, AUC = 99.90%]\n",
      "Epoch   6/30: 100%|██████████| 843/843 [00:03<00:00, 221.08batch/s, Loss = 0.1063, AUC = 99.92%]\n",
      "Epoch   7/30: 100%|██████████| 843/843 [00:03<00:00, 221.22batch/s, Loss = 0.0944, AUC = 99.92%]\n",
      "Epoch   8/30: 100%|██████████| 843/843 [00:03<00:00, 217.47batch/s, Loss = 0.0886, AUC = 99.94%]\n",
      "Epoch   9/30: 100%|██████████| 843/843 [00:03<00:00, 221.74batch/s, Loss = 0.0842, AUC = 99.94%]\n",
      "Epoch  10/30: 100%|██████████| 843/843 [00:03<00:00, 220.91batch/s, Loss = 0.0762, AUC = 99.96%]\n",
      "Epoch  11/30: 100%|██████████| 843/843 [00:03<00:00, 220.36batch/s, Loss = 0.0777, AUC = 99.95%]\n",
      "Epoch  12/30: 100%|██████████| 843/843 [00:03<00:00, 218.94batch/s, Loss = 0.0733, AUC = 99.97%]\n",
      "Epoch  13/30: 100%|██████████| 843/843 [00:03<00:00, 215.98batch/s, Loss = 0.0883, AUC = 99.95%]\n",
      "Epoch  14/30: 100%|██████████| 843/843 [00:03<00:00, 219.94batch/s, Loss = 0.0717, AUC = 99.96%]\n",
      "Epoch  15/30: 100%|██████████| 843/843 [00:04<00:00, 201.36batch/s, Loss = 0.0746, AUC = 99.96%]\n",
      "Epoch  16/30: 100%|██████████| 843/843 [00:04<00:00, 206.21batch/s, Loss = 0.0695, AUC = 99.97%]\n",
      "Epoch  17/30: 100%|██████████| 843/843 [00:03<00:00, 212.90batch/s, Loss = 0.0677, AUC = 99.97%]\n",
      "Epoch  18/30: 100%|██████████| 843/843 [00:03<00:00, 214.03batch/s, Loss = 0.0638, AUC = 99.97%]\n",
      "Epoch  19/30: 100%|██████████| 843/843 [00:03<00:00, 213.44batch/s, Loss = 0.0758, AUC = 99.96%]\n",
      "Epoch  20/30: 100%|██████████| 843/843 [00:03<00:00, 215.77batch/s, Loss = 0.0639, AUC = 99.97%]\n",
      "Epoch  21/30: 100%|██████████| 843/843 [00:03<00:00, 220.66batch/s, Loss = 0.0758, AUC = 99.96%]\n",
      "Epoch  22/30: 100%|██████████| 843/843 [00:03<00:00, 214.46batch/s, Loss = 0.0664, AUC = 99.97%]\n",
      "Epoch  23/30: 100%|██████████| 843/843 [00:03<00:00, 214.42batch/s, Loss = 0.0670, AUC = 99.97%]\n",
      "Epoch  24/30: 100%|██████████| 843/843 [00:03<00:00, 214.10batch/s, Loss = 0.0643, AUC = 99.98%]\n",
      "Epoch  25/30: 100%|██████████| 843/843 [00:03<00:00, 215.28batch/s, Loss = 0.0690, AUC = 99.97%]\n",
      "Epoch  26/30: 100%|██████████| 843/843 [00:03<00:00, 215.18batch/s, Loss = 0.0719, AUC = 99.97%]\n",
      "Epoch  27/30: 100%|██████████| 843/843 [00:03<00:00, 222.81batch/s, Loss = 0.0734, AUC = 99.97%]\n",
      "Epoch  28/30: 100%|██████████| 843/843 [00:03<00:00, 214.05batch/s, Loss = 0.0640, AUC = 99.98%]\n",
      "Epoch  29/30: 100%|██████████| 843/843 [00:04<00:00, 205.00batch/s, Loss = 0.0681, AUC = 99.97%]\n",
      "Epoch  30/30: 100%|██████████| 843/843 [00:04<00:00, 210.29batch/s, Loss = 0.0701, AUC = 99.97%]\n"
     ]
    },
    {
     "name": "stdout",
     "output_type": "stream",
     "text": [
      "Total training time = 124.29s, best validation AUC = 99.98% at epoch 24\n"
     ]
    },
    {
     "name": "stderr",
     "output_type": "stream",
     "text": [
      "Testing: 100%|██████████| 156/156 [00:03<00:00, 46.57batch/s, Loss = 0.0693, AUC = 99.98%] \n"
     ]
    }
   ],
   "source": [
    "model = VisionTransformer(num_classes=10, patch_size=14, hidden_size=64, num_heads=2, num_transformer_blocks=4, mlp_hidden_size=32)\n",
    "train_and_evaluate(model, mnist_train_dataloader, mnist_val_dataloader, mnist_test_dataloader, num_classes=10, num_epochs=30)"
   ]
  },
  {
   "cell_type": "markdown",
   "metadata": {},
   "source": [
    "Now let's train a smaller model which could be run on a quantum computer. Note that the number of parameters is much smaller."
   ]
  },
  {
   "cell_type": "code",
   "execution_count": 5,
   "metadata": {
    "execution": {
     "iopub.execute_input": "2023-08-27T14:23:50.387255Z",
     "iopub.status.busy": "2023-08-27T14:23:50.387109Z",
     "iopub.status.idle": "2023-08-27T14:25:55.948904Z",
     "shell.execute_reply": "2023-08-27T14:25:55.948332Z"
    }
   },
   "outputs": [
    {
     "name": "stderr",
     "output_type": "stream",
     "text": [
      "Epoch   1/30: 100%|██████████| 843/843 [00:08<00:00, 94.38batch/s, Loss = 1.7969, AUC = 82.30%] \n",
      "Epoch   2/30: 100%|██████████| 843/843 [00:03<00:00, 213.26batch/s, Loss = 1.0812, AUC = 94.46%]\n",
      "Epoch   3/30: 100%|██████████| 843/843 [00:03<00:00, 221.53batch/s, Loss = 0.6489, AUC = 97.44%]\n",
      "Epoch   4/30: 100%|██████████| 843/843 [00:03<00:00, 217.65batch/s, Loss = 0.4718, AUC = 98.44%]\n",
      "Epoch   5/30: 100%|██████████| 843/843 [00:03<00:00, 217.06batch/s, Loss = 0.3796, AUC = 98.89%]\n",
      "Epoch   6/30: 100%|██████████| 843/843 [00:03<00:00, 219.22batch/s, Loss = 0.3425, AUC = 99.09%]\n",
      "Epoch   7/30: 100%|██████████| 843/843 [00:03<00:00, 214.75batch/s, Loss = 0.3177, AUC = 99.21%]\n",
      "Epoch   8/30: 100%|██████████| 843/843 [00:03<00:00, 220.16batch/s, Loss = 0.3012, AUC = 99.30%]\n",
      "Epoch   9/30: 100%|██████████| 843/843 [00:03<00:00, 212.11batch/s, Loss = 0.2920, AUC = 99.33%]\n",
      "Epoch  10/30: 100%|██████████| 843/843 [00:03<00:00, 225.74batch/s, Loss = 0.2803, AUC = 99.37%]\n",
      "Epoch  11/30: 100%|██████████| 843/843 [00:03<00:00, 226.43batch/s, Loss = 0.2643, AUC = 99.44%]\n",
      "Epoch  12/30: 100%|██████████| 843/843 [00:03<00:00, 221.41batch/s, Loss = 0.2660, AUC = 99.46%]\n",
      "Epoch  13/30: 100%|██████████| 843/843 [00:03<00:00, 225.78batch/s, Loss = 0.2484, AUC = 99.52%]\n",
      "Epoch  14/30: 100%|██████████| 843/843 [00:03<00:00, 222.63batch/s, Loss = 0.2396, AUC = 99.56%]\n",
      "Epoch  15/30: 100%|██████████| 843/843 [00:04<00:00, 202.98batch/s, Loss = 0.2387, AUC = 99.55%]\n",
      "Epoch  16/30: 100%|██████████| 843/843 [00:03<00:00, 226.37batch/s, Loss = 0.2339, AUC = 99.57%]\n",
      "Epoch  17/30: 100%|██████████| 843/843 [00:03<00:00, 226.62batch/s, Loss = 0.2297, AUC = 99.59%]\n",
      "Epoch  18/30: 100%|██████████| 843/843 [00:03<00:00, 227.91batch/s, Loss = 0.2275, AUC = 99.59%]\n",
      "Epoch  19/30: 100%|██████████| 843/843 [00:03<00:00, 220.55batch/s, Loss = 0.2296, AUC = 99.59%]\n",
      "Epoch  20/30: 100%|██████████| 843/843 [00:03<00:00, 218.55batch/s, Loss = 0.2176, AUC = 99.63%]\n",
      "Epoch  21/30: 100%|██████████| 843/843 [00:03<00:00, 218.66batch/s, Loss = 0.2170, AUC = 99.62%]\n",
      "Epoch  22/30: 100%|██████████| 843/843 [00:03<00:00, 219.67batch/s, Loss = 0.2121, AUC = 99.64%]\n",
      "Epoch  23/30: 100%|██████████| 843/843 [00:03<00:00, 218.75batch/s, Loss = 0.2136, AUC = 99.63%]\n",
      "Epoch  24/30: 100%|██████████| 843/843 [00:03<00:00, 219.99batch/s, Loss = 0.2147, AUC = 99.64%]\n",
      "Epoch  25/30: 100%|██████████| 843/843 [00:03<00:00, 228.33batch/s, Loss = 0.2048, AUC = 99.67%]\n",
      "Epoch  26/30: 100%|██████████| 843/843 [00:03<00:00, 221.87batch/s, Loss = 0.2094, AUC = 99.65%]\n",
      "Epoch  27/30: 100%|██████████| 843/843 [00:03<00:00, 216.33batch/s, Loss = 0.2075, AUC = 99.65%]\n",
      "Epoch  28/30: 100%|██████████| 843/843 [00:03<00:00, 222.09batch/s, Loss = 0.2061, AUC = 99.67%]\n",
      "Epoch  29/30: 100%|██████████| 843/843 [00:04<00:00, 208.29batch/s, Loss = 0.2049, AUC = 99.66%]\n",
      "Epoch  30/30: 100%|██████████| 843/843 [00:03<00:00, 223.72batch/s, Loss = 0.2012, AUC = 99.67%]\n"
     ]
    },
    {
     "name": "stdout",
     "output_type": "stream",
     "text": [
      "Total training time = 120.23s, best validation AUC = 99.67% at epoch 30\n"
     ]
    },
    {
     "name": "stderr",
     "output_type": "stream",
     "text": [
      "Testing: 100%|██████████| 156/156 [00:02<00:00, 60.34batch/s, Loss = 0.1953, AUC = 99.71%]  \n"
     ]
    }
   ],
   "source": [
    "model = VisionTransformer(num_classes=10, patch_size=14, hidden_size=8, num_heads=2, num_transformer_blocks=4, mlp_hidden_size=4)\n",
    "train_and_evaluate(model, mnist_train_dataloader, mnist_val_dataloader, mnist_test_dataloader, num_classes=10, num_epochs=30)"
   ]
  }
 ],
 "metadata": {
  "kernelspec": {
   "display_name": "gsoc",
   "language": "python",
   "name": "python3"
  },
  "language_info": {
   "codemirror_mode": {
    "name": "ipython",
    "version": 3
   },
   "file_extension": ".py",
   "mimetype": "text/x-python",
   "name": "python",
   "nbconvert_exporter": "python",
   "pygments_lexer": "ipython3",
   "version": "3.11.4"
  }
 },
 "nbformat": 4,
 "nbformat_minor": 2
}

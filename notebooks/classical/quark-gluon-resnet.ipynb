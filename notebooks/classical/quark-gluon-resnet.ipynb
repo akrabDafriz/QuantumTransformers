{
 "cells": [
  {
   "cell_type": "markdown",
   "metadata": {},
   "source": [
    "# Quark-Gluon with ResNet (Classical)"
   ]
  },
  {
   "cell_type": "markdown",
   "metadata": {},
   "source": [
    "This is just for comparison with the classical ViT."
   ]
  },
  {
   "cell_type": "code",
   "execution_count": 1,
   "metadata": {},
   "outputs": [
    {
     "name": "stderr",
     "output_type": "stream",
     "text": [
      "2023-09-26 11:59:34.129218: E tensorflow/compiler/xla/stream_executor/cuda/cuda_dnn.cc:9342] Unable to register cuDNN factory: Attempting to register factory for plugin cuDNN when one has already been registered\n",
      "2023-09-26 11:59:34.129250: E tensorflow/compiler/xla/stream_executor/cuda/cuda_fft.cc:609] Unable to register cuFFT factory: Attempting to register factory for plugin cuFFT when one has already been registered\n",
      "2023-09-26 11:59:34.129272: E tensorflow/compiler/xla/stream_executor/cuda/cuda_blas.cc:1518] Unable to register cuBLAS factory: Attempting to register factory for plugin cuBLAS when one has already been registered\n",
      "2023-09-26 11:59:34.946474: W tensorflow/compiler/tf2tensorrt/utils/py_utils.cc:38] TF-TRT Warning: Could not find TensorRT\n"
     ]
    },
    {
     "name": "stdout",
     "output_type": "stream",
     "text": [
      "WARNING:tensorflow:From /global/common/software/m4392/conda/gsoc/lib/python3.11/site-packages/tensorflow/python/ops/distributions/distribution.py:259: ReparameterizationType.__init__ (from tensorflow.python.ops.distributions.distribution) is deprecated and will be removed after 2019-01-01.\n",
      "Instructions for updating:\n",
      "The TensorFlow Distributions library has moved to TensorFlow Probability (https://github.com/tensorflow/probability). You should update all references to use `tfp.distributions` instead of `tf.distributions`.\n",
      "WARNING:tensorflow:From /global/common/software/m4392/conda/gsoc/lib/python3.11/site-packages/tensorflow/python/ops/distributions/bernoulli.py:165: RegisterKL.__init__ (from tensorflow.python.ops.distributions.kullback_leibler) is deprecated and will be removed after 2019-01-01.\n",
      "Instructions for updating:\n",
      "The TensorFlow Distributions library has moved to TensorFlow Probability (https://github.com/tensorflow/probability). You should update all references to use `tfp.distributions` instead of `tf.distributions`.\n"
     ]
    },
    {
     "name": "stderr",
     "output_type": "stream",
     "text": [
      "Please first ``pip install -U cirq`` to enable related functionality in translation module\n"
     ]
    }
   ],
   "source": [
    "import flax.linen as nn\n",
    "import jax\n",
    "import jax.numpy as jnp\n",
    "import tensorflow as tf\n",
    "tf.config.set_visible_devices([], device_type='GPU')  # Ensure TF does not see GPU and grab all GPU memory.\n",
    "tf.random.set_seed(42)  # For reproducibility.\n",
    "\n",
    "from quantum_transformers.utils import plot_image\n",
    "from quantum_transformers.datasets import get_quark_gluon_dataloaders\n",
    "from quantum_transformers.training import train_and_evaluate\n",
    "\n",
    "data_dir = '/global/cfs/cdirs/m4392/salcc/data'"
   ]
  },
  {
   "cell_type": "code",
   "execution_count": 2,
   "metadata": {},
   "outputs": [
    {
     "name": "stdout",
     "output_type": "stream",
     "text": [
      "gpu:0 NVIDIA A100-PCIE-40GB\n"
     ]
    }
   ],
   "source": [
    "for d in jax.devices():\n",
    "    print(d, d.device_kind)"
   ]
  },
  {
   "cell_type": "code",
   "execution_count": 3,
   "metadata": {},
   "outputs": [
    {
     "name": "stdout",
     "output_type": "stream",
     "text": [
      "Cardinalities (train, val, test): 714510 79390 139306\n"
     ]
    },
    {
     "name": "stdout",
     "output_type": "stream",
     "text": [
      "(125, 125, 3)\n"
     ]
    },
    {
     "data": {
      "image/png": "[encoded data removed]",
      "text/plain": [
       "<Figure size 900x300 with 3 Axes>"
      ]
     },
     "metadata": {},
     "output_type": "display_data"
    }
   ],
   "source": [
    "qg_train_dataloader, qg_val_dataloader, qg_test_dataloader = get_quark_gluon_dataloaders(batch_size=256, data_dir=data_dir)\n",
    "first_image = next(iter(qg_train_dataloader))[0][0]\n",
    "print(first_image.shape)\n",
    "plot_image(first_image, abs_log=True)"
   ]
  },
  {
   "cell_type": "code",
   "execution_count": 4,
   "metadata": {},
   "outputs": [],
   "source": [
    "class ResidualBlock(nn.Module):\n",
    "    channels: int\n",
    "    strides: tuple[int, int] = (1, 1)\n",
    "    \n",
    "    @nn.compact\n",
    "    def __call__(self, x):\n",
    "        residual = x\n",
    "\n",
    "        # If strides are not 1, or channels changed, adapt the residual path\n",
    "        if x.shape[-1] != self.channels or self.strides != (1, 1):\n",
    "            residual = nn.Conv(features=self.channels, kernel_size=(1, 1), strides=self.strides)(residual)\n",
    "\n",
    "        x = nn.Conv(features=self.channels, kernel_size=(3, 3), strides=self.strides, padding=\"SAME\")(x)\n",
    "        x = nn.relu(x)\n",
    "        x = nn.Conv(features=self.channels, kernel_size=(3, 3), strides=(1, 1), padding=\"SAME\")(x)\n",
    "        x = x + residual\n",
    "        x = nn.relu(x)\n",
    "        return x\n",
    "\n",
    "class ResNet15(nn.Module):\n",
    "    num_classes: int\n",
    "    channels_last: bool = True\n",
    "\n",
    "    @nn.compact\n",
    "    def __call__(self, x, **_):\n",
    "        if not self.channels_last:\n",
    "            x = x.transpose((0, 3, 1, 2))\n",
    "        # x.shape = (batch_size, height, width, num_channels)\n",
    "\n",
    "        x = nn.Conv(features=16, kernel_size=(7, 7), strides=(2, 2), padding=\"SAME\")(x)\n",
    "        x = nn.relu(x)\n",
    "        x = nn.max_pool(x, window_shape=(3, 3), strides=(2, 2), padding=\"SAME\")\n",
    "\n",
    "        x = ResidualBlock(channels=16, strides=(1, 1))(x)\n",
    "        x = ResidualBlock(channels=16, strides=(1, 1))(x)\n",
    "        x = ResidualBlock(channels=16, strides=(1, 1))(x)\n",
    "        \n",
    "        x = ResidualBlock(channels=32, strides=(2, 2))(x)\n",
    "\n",
    "        x = ResidualBlock(channels=32, strides=(1, 1))(x)\n",
    "        x = ResidualBlock(channels=32, strides=(1, 1))(x)\n",
    "        x = ResidualBlock(channels=32, strides=(1, 1))(x)\n",
    "\n",
    "        x = jnp.max(x, axis=(1, 2))  # Global Max Pooling\n",
    "\n",
    "        x = nn.Dense(features=128)(x)\n",
    "        x = nn.relu(x)\n",
    "        x = nn.Dense(features=128)(x)\n",
    "        x = nn.relu(x)\n",
    "        x = nn.Dense(features=self.num_classes)(x)\n",
    "\n",
    "        return x"
   ]
  },
  {
   "cell_type": "code",
   "execution_count": 5,
   "metadata": {},
   "outputs": [
    {
     "name": "stdout",
     "output_type": "stream",
     "text": [
      "Number of parameters = 107202\n"
     ]
    },
    {
     "name": "stderr",
     "output_type": "stream",
     "text": [
      "Epoch   1/30: 100%|██████████| 2791/2791 [01:01<00:00, 45.25batch/s, Loss = 0.5638, AUC = 79.17%]\n",
      "Epoch   2/30: 100%|██████████| 2791/2791 [01:06<00:00, 42.15batch/s, Loss = 0.5462, AUC = 80.16%]\n",
      "Epoch   3/30: 100%|██████████| 2791/2791 [01:04<00:00, 43.13batch/s, Loss = 0.5402, AUC = 80.60%]\n",
      "Epoch   4/30: 100%|██████████| 2791/2791 [01:05<00:00, 42.49batch/s, Loss = 0.5434, AUC = 80.65%]\n",
      "Epoch   5/30: 100%|██████████| 2791/2791 [01:09<00:00, 40.30batch/s, Loss = 0.5405, AUC = 80.57%]\n",
      "Epoch   6/30: 100%|██████████| 2791/2791 [01:10<00:00, 39.46batch/s, Loss = 0.5387, AUC = 80.98%]\n",
      "Epoch   7/30: 100%|██████████| 2791/2791 [01:10<00:00, 39.69batch/s, Loss = 0.5372, AUC = 80.95%]\n",
      "Epoch   8/30: 100%|██████████| 2791/2791 [01:11<00:00, 38.96batch/s, Loss = 0.5327, AUC = 81.08%]\n",
      "Epoch   9/30: 100%|██████████| 2791/2791 [01:10<00:00, 39.54batch/s, Loss = 0.5328, AUC = 81.03%]\n",
      "Epoch  10/30: 100%|██████████| 2791/2791 [01:08<00:00, 40.45batch/s, Loss = 0.5321, AUC = 81.15%]\n",
      "Epoch  11/30: 100%|██████████| 2791/2791 [01:10<00:00, 39.55batch/s, Loss = 0.5325, AUC = 81.12%]\n",
      "Epoch  12/30: 100%|██████████| 2791/2791 [01:11<00:00, 38.95batch/s, Loss = 0.5321, AUC = 81.14%]\n",
      "Epoch  13/30: 100%|██████████| 2791/2791 [01:09<00:00, 40.22batch/s, Loss = 0.5326, AUC = 81.11%]\n",
      "Epoch  14/30: 100%|██████████| 2791/2791 [01:10<00:00, 39.70batch/s, Loss = 0.5337, AUC = 81.08%]\n",
      "Epoch  15/30: 100%|██████████| 2791/2791 [01:10<00:00, 39.86batch/s, Loss = 0.5348, AUC = 80.98%]\n",
      "Epoch  16/30: 100%|██████████| 2791/2791 [01:10<00:00, 39.52batch/s, Loss = 0.5355, AUC = 80.92%]\n",
      "Epoch  17/30: 100%|██████████| 2791/2791 [01:10<00:00, 39.32batch/s, Loss = 0.5365, AUC = 80.87%]\n",
      "Epoch  18/30: 100%|██████████| 2791/2791 [01:10<00:00, 39.52batch/s, Loss = 0.5368, AUC = 80.87%]\n",
      "Epoch  19/30: 100%|██████████| 2791/2791 [01:10<00:00, 39.36batch/s, Loss = 0.5368, AUC = 80.87%]\n",
      "Epoch  20/30: 100%|██████████| 2791/2791 [01:11<00:00, 39.20batch/s, Loss = 0.5368, AUC = 80.87%]\n",
      "Epoch  21/30: 100%|██████████| 2791/2791 [01:10<00:00, 39.67batch/s, Loss = 0.5368, AUC = 80.87%]\n",
      "Epoch  22/30: 100%|██████████| 2791/2791 [01:11<00:00, 39.20batch/s, Loss = 0.5368, AUC = 80.87%]\n",
      "Epoch  23/30: 100%|██████████| 2791/2791 [01:10<00:00, 39.47batch/s, Loss = 0.5368, AUC = 80.87%]\n",
      "Epoch  24/30: 100%|██████████| 2791/2791 [01:10<00:00, 39.36batch/s, Loss = 0.5368, AUC = 80.87%]\n",
      "Epoch  25/30: 100%|██████████| 2791/2791 [01:10<00:00, 39.77batch/s, Loss = 0.5368, AUC = 80.87%]\n",
      "Epoch  26/30: 100%|██████████| 2791/2791 [01:09<00:00, 40.02batch/s, Loss = 0.5368, AUC = 80.87%]\n",
      "Epoch  27/30: 100%|██████████| 2791/2791 [01:11<00:00, 39.22batch/s, Loss = 0.5368, AUC = 80.87%]\n",
      "Epoch  28/30: 100%|██████████| 2791/2791 [01:10<00:00, 39.39batch/s, Loss = 0.5368, AUC = 80.87%]\n",
      "Epoch  29/30: 100%|██████████| 2791/2791 [01:10<00:00, 39.38batch/s, Loss = 0.5368, AUC = 80.87%]\n",
      "Epoch  30/30: 100%|██████████| 2791/2791 [01:10<00:00, 39.72batch/s, Loss = 0.5368, AUC = 80.87%]\n"
     ]
    },
    {
     "name": "stdout",
     "output_type": "stream",
     "text": [
      "Total training time = 2092.43s, best validation AUC = 81.15% at epoch 10\n"
     ]
    },
    {
     "name": "stderr",
     "output_type": "stream",
     "text": [
      "Testing: 100%|██████████| 544/544 [00:26<00:00, 20.51batch/s, Loss = 0.5365, AUC = 80.76%]\n"
     ]
    }
   ],
   "source": [
    "model = ResNet15(num_classes=2)\n",
    "train_and_evaluate(model, qg_train_dataloader, qg_val_dataloader, qg_test_dataloader, num_classes=2, num_epochs=30)"
   ]
  },
  {
   "cell_type": "code",
   "execution_count": 16,
   "metadata": {},
   "outputs": [],
   "source": [
    "class ResNet15(nn.Module):\n",
    "    num_classes: int\n",
    "    channels_last: bool = True\n",
    "\n",
    "    @nn.compact\n",
    "    def __call__(self, x, **_):\n",
    "        if not self.channels_last:\n",
    "            x = x.transpose((0, 3, 1, 2))\n",
    "        # x.shape = (batch_size, height, width, num_channels)\n",
    "\n",
    "        x = nn.Conv(features=4, kernel_size=(7, 7), strides=(2, 2), padding=\"SAME\")(x)\n",
    "        x = nn.relu(x)\n",
    "        x = nn.max_pool(x, window_shape=(3, 3), strides=(2, 2), padding=\"SAME\")\n",
    "\n",
    "        x = ResidualBlock(channels=4, strides=(1, 1))(x)\n",
    "        x = ResidualBlock(channels=4, strides=(1, 1))(x)\n",
    "        x = ResidualBlock(channels=4, strides=(1, 1))(x)\n",
    "        \n",
    "        x = ResidualBlock(channels=4, strides=(2, 2))(x)\n",
    "\n",
    "        x = ResidualBlock(channels=8, strides=(1, 1))(x)\n",
    "        x = ResidualBlock(channels=8, strides=(1, 1))(x)\n",
    "        x = ResidualBlock(channels=8, strides=(1, 1))(x)\n",
    "\n",
    "        x = jnp.max(x, axis=(1, 2))  # Global Max Pooling\n",
    "\n",
    "        x = nn.Dense(features=8)(x)\n",
    "        x = nn.relu(x)\n",
    "        x = nn.Dense(features=4)(x)\n",
    "        x = nn.relu(x)\n",
    "        x = nn.Dense(features=self.num_classes)(x)\n",
    "\n",
    "        return x"
   ]
  },
  {
   "cell_type": "code",
   "execution_count": 17,
   "metadata": {},
   "outputs": [
    {
     "name": "stdout",
     "output_type": "stream",
     "text": [
      "Number of parameters = 5170\n"
     ]
    },
    {
     "name": "stderr",
     "output_type": "stream",
     "text": [
      "Epoch   1/30: 100%|██████████| 2791/2791 [00:52<00:00, 53.29batch/s, Loss = 0.5714, AUC = 78.20%]\n",
      "Epoch   2/30: 100%|██████████| 2791/2791 [00:47<00:00, 58.99batch/s, Loss = 0.5522, AUC = 79.45%]\n",
      "Epoch   3/30: 100%|██████████| 2791/2791 [00:50<00:00, 54.80batch/s, Loss = 0.5482, AUC = 79.90%]\n",
      "Epoch   4/30: 100%|██████████| 2791/2791 [00:47<00:00, 58.66batch/s, Loss = 0.5480, AUC = 80.03%]\n",
      "Epoch   5/30: 100%|██████████| 2791/2791 [00:45<00:00, 61.87batch/s, Loss = 0.5482, AUC = 80.22%]\n",
      "Epoch   6/30: 100%|██████████| 2791/2791 [00:44<00:00, 62.08batch/s, Loss = 0.5468, AUC = 80.31%]\n",
      "Epoch   7/30: 100%|██████████| 2791/2791 [00:51<00:00, 53.97batch/s, Loss = 0.5418, AUC = 80.32%]\n",
      "Epoch   8/30: 100%|██████████| 2791/2791 [00:46<00:00, 59.98batch/s, Loss = 0.5404, AUC = 80.50%]\n",
      "Epoch   9/30: 100%|██████████| 2791/2791 [00:52<00:00, 53.13batch/s, Loss = 0.5403, AUC = 80.46%]\n",
      "Epoch  10/30: 100%|██████████| 2791/2791 [00:50<00:00, 55.19batch/s, Loss = 0.5407, AUC = 80.52%]\n",
      "Epoch  11/30: 100%|██████████| 2791/2791 [00:47<00:00, 58.47batch/s, Loss = 0.5383, AUC = 80.61%]\n",
      "Epoch  12/30: 100%|██████████| 2791/2791 [00:49<00:00, 56.29batch/s, Loss = 0.5372, AUC = 80.64%]\n",
      "Epoch  13/30: 100%|██████████| 2791/2791 [00:47<00:00, 58.23batch/s, Loss = 0.5376, AUC = 80.66%]\n",
      "Epoch  14/30: 100%|██████████| 2791/2791 [00:45<00:00, 60.72batch/s, Loss = 0.5384, AUC = 80.67%]\n",
      "Epoch  15/30: 100%|██████████| 2791/2791 [00:46<00:00, 60.23batch/s, Loss = 0.5366, AUC = 80.70%]\n",
      "Epoch  16/30: 100%|██████████| 2791/2791 [00:46<00:00, 60.15batch/s, Loss = 0.5366, AUC = 80.70%]\n",
      "Epoch  17/30: 100%|██████████| 2791/2791 [00:44<00:00, 62.96batch/s, Loss = 0.5365, AUC = 80.71%]\n",
      "Epoch  18/30: 100%|██████████| 2791/2791 [00:47<00:00, 59.23batch/s, Loss = 0.5364, AUC = 80.71%]\n",
      "Epoch  19/30: 100%|██████████| 2791/2791 [00:45<00:00, 61.84batch/s, Loss = 0.5365, AUC = 80.70%]\n",
      "Epoch  20/30: 100%|██████████| 2791/2791 [00:43<00:00, 63.72batch/s, Loss = 0.5364, AUC = 80.71%]\n",
      "Epoch  21/30: 100%|██████████| 2791/2791 [00:44<00:00, 62.35batch/s, Loss = 0.5365, AUC = 80.70%]\n",
      "Epoch  22/30: 100%|██████████| 2791/2791 [00:46<00:00, 59.72batch/s, Loss = 0.5364, AUC = 80.71%]\n",
      "Epoch  23/30: 100%|██████████| 2791/2791 [00:47<00:00, 58.33batch/s, Loss = 0.5365, AUC = 80.70%]\n",
      "Epoch  24/30: 100%|██████████| 2791/2791 [00:45<00:00, 61.55batch/s, Loss = 0.5365, AUC = 80.70%]\n",
      "Epoch  25/30: 100%|██████████| 2791/2791 [00:45<00:00, 60.97batch/s, Loss = 0.5364, AUC = 80.71%]\n",
      "Epoch  26/30: 100%|██████████| 2791/2791 [00:46<00:00, 59.59batch/s, Loss = 0.5365, AUC = 80.71%]\n",
      "Epoch  27/30: 100%|██████████| 2791/2791 [00:44<00:00, 62.50batch/s, Loss = 0.5364, AUC = 80.71%]\n",
      "Epoch  28/30: 100%|██████████| 2791/2791 [00:44<00:00, 62.91batch/s, Loss = 0.5365, AUC = 80.70%]\n",
      "Epoch  29/30: 100%|██████████| 2791/2791 [00:45<00:00, 61.41batch/s, Loss = 0.5365, AUC = 80.70%]\n",
      "Epoch  30/30: 100%|██████████| 2791/2791 [00:43<00:00, 64.73batch/s, Loss = 0.5365, AUC = 80.70%]\n"
     ]
    },
    {
     "name": "stdout",
     "output_type": "stream",
     "text": [
      "Total training time = 1408.95s, best validation AUC = 80.71% at epoch 25\n"
     ]
    },
    {
     "name": "stderr",
     "output_type": "stream",
     "text": [
      "Testing: 100%|██████████| 544/544 [00:16<00:00, 32.43batch/s, Loss = 0.5413, AUC = 80.33%]\n"
     ]
    }
   ],
   "source": [
    "model = ResNet15(num_classes=2)\n",
    "train_and_evaluate(model, qg_train_dataloader, qg_val_dataloader, qg_test_dataloader, num_classes=2, num_epochs=30)"
   ]
  }
 ],
 "metadata": {
  "kernelspec": {
   "display_name": "gsoc",
   "language": "python",
   "name": "python3"
  },
  "language_info": {
   "codemirror_mode": {
    "name": "ipython",
    "version": 3
   },
   "file_extension": ".py",
   "mimetype": "text/x-python",
   "name": "python",
   "nbconvert_exporter": "python",
   "pygments_lexer": "ipython3",
   "version": "3.11.4"
  },
  "orig_nbformat": 4
 },
 "nbformat": 4,
 "nbformat_minor": 2
}

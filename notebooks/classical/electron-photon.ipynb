{
 "cells": [
  {
   "cell_type": "markdown",
   "metadata": {},
   "source": [
    "# Electron-Photon (Classical)\n",
    "\n",
    "This notebook trains and evaluates classical baselines for the electron-photon classification task.\n",
    "You can find information about the dataset at https://arxiv.org/abs/1807.11916."
   ]
  },
  {
   "cell_type": "code",
   "execution_count": 1,
   "metadata": {
    "execution": {
     "iopub.execute_input": "2023-11-03T09:56:18.247157Z",
     "iopub.status.busy": "2023-11-03T09:56:18.246908Z",
     "iopub.status.idle": "2023-11-03T09:56:37.514964Z",
     "shell.execute_reply": "2023-11-03T09:56:37.514526Z"
    }
   },
   "outputs": [
    {
     "name": "stderr",
     "output_type": "stream",
     "text": [
      "2023-11-03 02:56:20.726028: E tensorflow/compiler/xla/stream_executor/cuda/cuda_dnn.cc:9342] Unable to register cuDNN factory: Attempting to register factory for plugin cuDNN when one has already been registered\n",
      "2023-11-03 02:56:20.726058: E tensorflow/compiler/xla/stream_executor/cuda/cuda_fft.cc:609] Unable to register cuFFT factory: Attempting to register factory for plugin cuFFT when one has already been registered\n",
      "2023-11-03 02:56:20.726084: E tensorflow/compiler/xla/stream_executor/cuda/cuda_blas.cc:1518] Unable to register cuBLAS factory: Attempting to register factory for plugin cuBLAS when one has already been registered\n",
      "2023-11-03 02:56:23.933704: W tensorflow/compiler/tf2tensorrt/utils/py_utils.cc:38] TF-TRT Warning: Could not find TensorRT\n",
      "Please first ``pip install -U cirq`` to enable related functionality in translation module\n"
     ]
    }
   ],
   "source": [
    "import jax\n",
    "import tensorflow as tf\n",
    "tf.config.set_visible_devices([], device_type='GPU')  # Ensure TF does not see GPU and grab all GPU memory.\n",
    "tf.random.set_seed(42)  # For reproducibility.\n",
    "\n",
    "from quantum_transformers.utils import plot_image\n",
    "from quantum_transformers.datasets import get_electron_photon_dataloaders\n",
    "from quantum_transformers.training import train_and_evaluate\n",
    "from quantum_transformers.transformers import VisionTransformer\n",
    "\n",
    "data_dir = '/global/cfs/cdirs/m4392/salcc/data'"
   ]
  },
  {
   "cell_type": "markdown",
   "metadata": {},
   "source": [
    "The models are trained using the following devices:"
   ]
  },
  {
   "cell_type": "code",
   "execution_count": 2,
   "metadata": {
    "execution": {
     "iopub.execute_input": "2023-11-03T09:56:37.517539Z",
     "iopub.status.busy": "2023-11-03T09:56:37.517096Z",
     "iopub.status.idle": "2023-11-03T09:56:37.749534Z",
     "shell.execute_reply": "2023-11-03T09:56:37.749081Z"
    }
   },
   "outputs": [
    {
     "name": "stdout",
     "output_type": "stream",
     "text": [
      "gpu:0 NVIDIA A100-SXM4-40GB\n"
     ]
    }
   ],
   "source": [
    "for d in jax.devices():\n",
    "    print(d, d.device_kind)"
   ]
  },
  {
   "cell_type": "markdown",
   "metadata": {},
   "source": [
    "Let's check how many samples the dataset has, the shape of the input data, and how one sample looks like."
   ]
  },
  {
   "cell_type": "code",
   "execution_count": 3,
   "metadata": {
    "execution": {
     "iopub.execute_input": "2023-11-03T09:56:37.751467Z",
     "iopub.status.busy": "2023-11-03T09:56:37.751319Z",
     "iopub.status.idle": "2023-11-03T09:56:38.261192Z",
     "shell.execute_reply": "2023-11-03T09:56:38.260769Z"
    }
   },
   "outputs": [
    {
     "name": "stdout",
     "output_type": "stream",
     "text": [
      "Cardinalities (train, val, test): 439200 48800 10000\n",
      "(32, 32, 2)\n"
     ]
    },
    {
     "data": {
      "image/png": "[encoded data removed]",
      "text/plain": [
       "<Figure size 600x300 with 2 Axes>"
      ]
     },
     "metadata": {},
     "output_type": "display_data"
    }
   ],
   "source": [
    "ep_train_dataloader, ep_val_dataloader, ep_test_dataloader = get_electron_photon_dataloaders(batch_size=256, data_dir=data_dir)\n",
    "first_image = next(iter(ep_train_dataloader))[0][0]\n",
    "print(first_image.shape)\n",
    "plot_image(first_image, abs_log=True)"
   ]
  },
  {
   "cell_type": "markdown",
   "metadata": {},
   "source": [
    "Next, we train a big ViT that obtains a good AUC score on the test set (hyperparameters found by random hyperparameter search). Note however that this model size is too big to be replicated on a quantum computer currently."
   ]
  },
  {
   "cell_type": "code",
   "execution_count": 4,
   "metadata": {
    "execution": {
     "iopub.execute_input": "2023-11-03T09:56:38.263059Z",
     "iopub.status.busy": "2023-11-03T09:56:38.262914Z",
     "iopub.status.idle": "2023-11-03T10:06:09.133229Z",
     "shell.execute_reply": "2023-11-03T10:06:09.132698Z"
    }
   },
   "outputs": [
    {
     "name": "stdout",
     "output_type": "stream",
     "text": [
      "Number of parameters = 93890\n"
     ]
    },
    {
     "name": "stderr",
     "output_type": "stream",
     "text": [
      "Epoch   1/50: 100%|██████████| 1715/1715 [00:18<00:00, 93.95batch/s, Loss = 0.6609, AUC = 65.74%] \n",
      "Epoch   2/50: 100%|██████████| 1715/1715 [00:10<00:00, 159.26batch/s, Loss = 0.6223, AUC = 71.56%]\n",
      "Epoch   3/50: 100%|██████████| 1715/1715 [00:11<00:00, 155.16batch/s, Loss = 0.6103, AUC = 73.37%]\n",
      "Epoch   4/50: 100%|██████████| 1715/1715 [00:11<00:00, 155.86batch/s, Loss = 0.5887, AUC = 75.34%]\n",
      "Epoch   5/50: 100%|██████████| 1715/1715 [00:11<00:00, 154.94batch/s, Loss = 0.5866, AUC = 75.70%]\n",
      "Epoch   6/50: 100%|██████████| 1715/1715 [00:10<00:00, 157.74batch/s, Loss = 0.5805, AUC = 76.45%]\n",
      "Epoch   7/50: 100%|██████████| 1715/1715 [00:11<00:00, 153.47batch/s, Loss = 0.5798, AUC = 76.50%]\n",
      "Epoch   8/50: 100%|██████████| 1715/1715 [00:11<00:00, 155.15batch/s, Loss = 0.5769, AUC = 76.79%]\n",
      "Epoch   9/50: 100%|██████████| 1715/1715 [00:11<00:00, 155.65batch/s, Loss = 0.5793, AUC = 76.75%]\n",
      "Epoch  10/50: 100%|██████████| 1715/1715 [00:11<00:00, 152.67batch/s, Loss = 0.5699, AUC = 77.33%]\n",
      "Epoch  11/50: 100%|██████████| 1715/1715 [00:10<00:00, 156.31batch/s, Loss = 0.5718, AUC = 77.20%]\n",
      "Epoch  12/50: 100%|██████████| 1715/1715 [00:11<00:00, 153.00batch/s, Loss = 0.5659, AUC = 77.73%]\n",
      "Epoch  13/50: 100%|██████████| 1715/1715 [00:11<00:00, 153.09batch/s, Loss = 0.5626, AUC = 78.05%]\n",
      "Epoch  14/50: 100%|██████████| 1715/1715 [00:10<00:00, 157.38batch/s, Loss = 0.5611, AUC = 78.31%]\n",
      "Epoch  15/50: 100%|██████████| 1715/1715 [00:11<00:00, 155.12batch/s, Loss = 0.5596, AUC = 78.38%]\n",
      "Epoch  16/50: 100%|██████████| 1715/1715 [00:11<00:00, 154.47batch/s, Loss = 0.5590, AUC = 78.47%]\n",
      "Epoch  17/50: 100%|██████████| 1715/1715 [00:11<00:00, 155.85batch/s, Loss = 0.5550, AUC = 78.78%]\n",
      "Epoch  18/50: 100%|██████████| 1715/1715 [00:11<00:00, 153.23batch/s, Loss = 0.5606, AUC = 78.71%]\n",
      "Epoch  19/50: 100%|██████████| 1715/1715 [00:11<00:00, 154.59batch/s, Loss = 0.5541, AUC = 78.88%]\n",
      "Epoch  20/50: 100%|██████████| 1715/1715 [00:11<00:00, 153.40batch/s, Loss = 0.5538, AUC = 78.91%]\n",
      "Epoch  21/50: 100%|██████████| 1715/1715 [00:11<00:00, 151.85batch/s, Loss = 0.5529, AUC = 79.04%]\n",
      "Epoch  22/50: 100%|██████████| 1715/1715 [00:10<00:00, 160.14batch/s, Loss = 0.5543, AUC = 79.00%]\n",
      "Epoch  23/50: 100%|██████████| 1715/1715 [00:11<00:00, 153.90batch/s, Loss = 0.5506, AUC = 79.25%]\n",
      "Epoch  24/50: 100%|██████████| 1715/1715 [00:11<00:00, 154.51batch/s, Loss = 0.5511, AUC = 79.37%]\n",
      "Epoch  25/50: 100%|██████████| 1715/1715 [00:10<00:00, 156.42batch/s, Loss = 0.5490, AUC = 79.41%]\n",
      "Epoch  26/50: 100%|██████████| 1715/1715 [00:11<00:00, 151.32batch/s, Loss = 0.5492, AUC = 79.37%]\n",
      "Epoch  27/50: 100%|██████████| 1715/1715 [00:10<00:00, 157.66batch/s, Loss = 0.5492, AUC = 79.41%]\n",
      "Epoch  28/50: 100%|██████████| 1715/1715 [00:10<00:00, 158.85batch/s, Loss = 0.5492, AUC = 79.39%]\n",
      "Epoch  29/50: 100%|██████████| 1715/1715 [00:11<00:00, 152.10batch/s, Loss = 0.5493, AUC = 79.39%]\n",
      "Epoch  30/50: 100%|██████████| 1715/1715 [00:11<00:00, 153.96batch/s, Loss = 0.5493, AUC = 79.39%]\n",
      "Epoch  31/50: 100%|██████████| 1715/1715 [00:11<00:00, 151.70batch/s, Loss = 0.5493, AUC = 79.39%]\n",
      "Epoch  32/50: 100%|██████████| 1715/1715 [00:12<00:00, 140.09batch/s, Loss = 0.5493, AUC = 79.39%]\n",
      "Epoch  33/50: 100%|██████████| 1715/1715 [00:10<00:00, 160.91batch/s, Loss = 0.5493, AUC = 79.39%]\n",
      "Epoch  34/50: 100%|██████████| 1715/1715 [00:11<00:00, 154.53batch/s, Loss = 0.5495, AUC = 79.37%]\n",
      "Epoch  35/50: 100%|██████████| 1715/1715 [00:11<00:00, 154.63batch/s, Loss = 0.5493, AUC = 79.39%]\n",
      "Epoch  36/50: 100%|██████████| 1715/1715 [00:10<00:00, 160.09batch/s, Loss = 0.5493, AUC = 79.39%]\n",
      "Epoch  37/50: 100%|██████████| 1715/1715 [00:11<00:00, 154.04batch/s, Loss = 0.5491, AUC = 79.41%]\n",
      "Epoch  38/50: 100%|██████████| 1715/1715 [00:11<00:00, 155.09batch/s, Loss = 0.5491, AUC = 79.41%]\n",
      "Epoch  39/50: 100%|██████████| 1715/1715 [00:11<00:00, 155.62batch/s, Loss = 0.5492, AUC = 79.39%]\n",
      "Epoch  40/50: 100%|██████████| 1715/1715 [00:10<00:00, 157.64batch/s, Loss = 0.5493, AUC = 79.39%]\n",
      "Epoch  41/50: 100%|██████████| 1715/1715 [00:12<00:00, 140.94batch/s, Loss = 0.5492, AUC = 79.39%]\n",
      "Epoch  42/50: 100%|██████████| 1715/1715 [00:11<00:00, 154.12batch/s, Loss = 0.5493, AUC = 79.39%]\n",
      "Epoch  43/50: 100%|██████████| 1715/1715 [00:10<00:00, 156.10batch/s, Loss = 0.5493, AUC = 79.39%]\n",
      "Epoch  44/50: 100%|██████████| 1715/1715 [00:11<00:00, 152.94batch/s, Loss = 0.5493, AUC = 79.39%]\n",
      "Epoch  45/50: 100%|██████████| 1715/1715 [00:11<00:00, 154.62batch/s, Loss = 0.5493, AUC = 79.39%]\n",
      "Epoch  46/50: 100%|██████████| 1715/1715 [00:11<00:00, 154.34batch/s, Loss = 0.5493, AUC = 79.39%]\n",
      "Epoch  47/50: 100%|██████████| 1715/1715 [00:10<00:00, 157.98batch/s, Loss = 0.5495, AUC = 79.37%]\n",
      "Epoch  48/50: 100%|██████████| 1715/1715 [00:11<00:00, 153.60batch/s, Loss = 0.5494, AUC = 79.38%]\n",
      "Epoch  49/50: 100%|██████████| 1715/1715 [00:11<00:00, 155.27batch/s, Loss = 0.5491, AUC = 79.41%]\n",
      "Epoch  50/50: 100%|██████████| 1715/1715 [00:10<00:00, 156.36batch/s, Loss = 0.5493, AUC = 79.38%]\n"
     ]
    },
    {
     "name": "stdout",
     "output_type": "stream",
     "text": [
      "Total training time = 562.15s, best validation AUC = 79.41% at epoch 25\n"
     ]
    },
    {
     "name": "stderr",
     "output_type": "stream",
     "text": [
      "Testing: 100%|██████████| 39/39 [00:01<00:00, 23.25batch/s, Loss = 0.5541, AUC = 79.10%] \n"
     ]
    },
    {
     "data": {
      "text/plain": [
       "(Array(0.55410224, dtype=float32),\n",
       " 79.09885959256457,\n",
       " array([0.        , 0.        , 0.        , ..., 0.99837695, 0.99837695,\n",
       "        1.        ]),\n",
       " array([0.00000000e+00, 1.97823937e-04, 7.31948566e-03, ...,\n",
       "        9.99802176e-01, 1.00000000e+00, 1.00000000e+00]))"
      ]
     },
     "execution_count": 4,
     "metadata": {},
     "output_type": "execute_result"
    }
   ],
   "source": [
    "model = VisionTransformer(num_classes=2, patch_size=8, hidden_size=64, num_heads=2, num_transformer_blocks=4, mlp_hidden_size=32)\n",
    "train_and_evaluate(model, ep_train_dataloader, ep_val_dataloader, ep_test_dataloader, num_classes=2, num_epochs=50)"
   ]
  },
  {
   "cell_type": "markdown",
   "metadata": {},
   "source": [
    "Now let's train a smaller model which could be run on a quantum computer. Note that the number of parameters is much smaller."
   ]
  },
  {
   "cell_type": "code",
   "execution_count": 5,
   "metadata": {
    "execution": {
     "iopub.execute_input": "2023-11-03T10:06:09.135183Z",
     "iopub.status.busy": "2023-11-03T10:06:09.135018Z",
     "iopub.status.idle": "2023-11-03T10:14:53.016280Z",
     "shell.execute_reply": "2023-11-03T10:14:53.015787Z"
    }
   },
   "outputs": [
    {
     "name": "stdout",
     "output_type": "stream",
     "text": [
      "Number of parameters = 2778\n"
     ]
    },
    {
     "name": "stderr",
     "output_type": "stream",
     "text": [
      "Epoch   1/50: 100%|██████████| 1715/1715 [00:16<00:00, 101.09batch/s, Loss = 0.6930, AUC = 51.93%]\n",
      "Epoch   2/50: 100%|██████████| 1715/1715 [00:10<00:00, 169.57batch/s, Loss = 0.6624, AUC = 63.67%]\n",
      "Epoch   3/50: 100%|██████████| 1715/1715 [00:10<00:00, 169.75batch/s, Loss = 0.6388, AUC = 68.34%]\n",
      "Epoch   4/50: 100%|██████████| 1715/1715 [00:10<00:00, 163.01batch/s, Loss = 0.6140, AUC = 72.56%]\n",
      "Epoch   5/50: 100%|██████████| 1715/1715 [00:10<00:00, 165.72batch/s, Loss = 0.5966, AUC = 74.26%]\n",
      "Epoch   6/50: 100%|██████████| 1715/1715 [00:10<00:00, 166.36batch/s, Loss = 0.5954, AUC = 74.78%]\n",
      "Epoch   7/50: 100%|██████████| 1715/1715 [00:10<00:00, 168.69batch/s, Loss = 0.5866, AUC = 75.61%]\n",
      "Epoch   8/50: 100%|██████████| 1715/1715 [00:10<00:00, 164.55batch/s, Loss = 0.5853, AUC = 75.76%]\n",
      "Epoch   9/50: 100%|██████████| 1715/1715 [00:09<00:00, 173.61batch/s, Loss = 0.5850, AUC = 75.63%]\n",
      "Epoch  10/50: 100%|██████████| 1715/1715 [00:10<00:00, 164.75batch/s, Loss = 0.5828, AUC = 75.95%]\n",
      "Epoch  11/50: 100%|██████████| 1715/1715 [00:10<00:00, 170.49batch/s, Loss = 0.5838, AUC = 75.90%]\n",
      "Epoch  12/50: 100%|██████████| 1715/1715 [00:10<00:00, 161.41batch/s, Loss = 0.5809, AUC = 76.09%]\n",
      "Epoch  13/50: 100%|██████████| 1715/1715 [00:10<00:00, 170.68batch/s, Loss = 0.5812, AUC = 76.17%]\n",
      "Epoch  14/50: 100%|██████████| 1715/1715 [00:10<00:00, 166.11batch/s, Loss = 0.5829, AUC = 76.00%]\n",
      "Epoch  15/50: 100%|██████████| 1715/1715 [00:10<00:00, 165.36batch/s, Loss = 0.5803, AUC = 76.17%]\n",
      "Epoch  16/50: 100%|██████████| 1715/1715 [00:10<00:00, 162.20batch/s, Loss = 0.5782, AUC = 76.45%]\n",
      "Epoch  17/50: 100%|██████████| 1715/1715 [00:10<00:00, 167.83batch/s, Loss = 0.5793, AUC = 76.35%]\n",
      "Epoch  18/50: 100%|██████████| 1715/1715 [00:09<00:00, 172.66batch/s, Loss = 0.5770, AUC = 76.57%]\n",
      "Epoch  19/50: 100%|██████████| 1715/1715 [00:10<00:00, 165.11batch/s, Loss = 0.5782, AUC = 76.44%]\n",
      "Epoch  20/50: 100%|██████████| 1715/1715 [00:10<00:00, 164.13batch/s, Loss = 0.5771, AUC = 76.60%]\n",
      "Epoch  21/50: 100%|██████████| 1715/1715 [00:09<00:00, 175.68batch/s, Loss = 0.5760, AUC = 76.66%]\n",
      "Epoch  22/50: 100%|██████████| 1715/1715 [00:10<00:00, 167.95batch/s, Loss = 0.5768, AUC = 76.64%]\n",
      "Epoch  23/50: 100%|██████████| 1715/1715 [00:09<00:00, 172.02batch/s, Loss = 0.5763, AUC = 76.63%]\n",
      "Epoch  24/50: 100%|██████████| 1715/1715 [00:09<00:00, 172.34batch/s, Loss = 0.5751, AUC = 76.76%]\n",
      "Epoch  25/50: 100%|██████████| 1715/1715 [00:10<00:00, 168.90batch/s, Loss = 0.5753, AUC = 76.73%]\n",
      "Epoch  26/50: 100%|██████████| 1715/1715 [00:10<00:00, 166.60batch/s, Loss = 0.5750, AUC = 76.79%]\n",
      "Epoch  27/50: 100%|██████████| 1715/1715 [00:10<00:00, 169.24batch/s, Loss = 0.5751, AUC = 76.76%]\n",
      "Epoch  28/50: 100%|██████████| 1715/1715 [00:10<00:00, 165.78batch/s, Loss = 0.5749, AUC = 76.78%]\n",
      "Epoch  29/50: 100%|██████████| 1715/1715 [00:10<00:00, 169.65batch/s, Loss = 0.5750, AUC = 76.78%]\n",
      "Epoch  30/50: 100%|██████████| 1715/1715 [00:09<00:00, 172.75batch/s, Loss = 0.5751, AUC = 76.76%]\n",
      "Epoch  31/50: 100%|██████████| 1715/1715 [00:10<00:00, 167.73batch/s, Loss = 0.5750, AUC = 76.78%]\n",
      "Epoch  32/50: 100%|██████████| 1715/1715 [00:10<00:00, 161.34batch/s, Loss = 0.5751, AUC = 76.77%]\n",
      "Epoch  33/50: 100%|██████████| 1715/1715 [00:10<00:00, 169.36batch/s, Loss = 0.5751, AUC = 76.77%]\n",
      "Epoch  34/50: 100%|██████████| 1715/1715 [00:10<00:00, 164.63batch/s, Loss = 0.5753, AUC = 76.75%]\n",
      "Epoch  35/50: 100%|██████████| 1715/1715 [00:10<00:00, 165.05batch/s, Loss = 0.5751, AUC = 76.77%]\n",
      "Epoch  36/50: 100%|██████████| 1715/1715 [00:10<00:00, 167.14batch/s, Loss = 0.5752, AUC = 76.75%]\n",
      "Epoch  37/50: 100%|██████████| 1715/1715 [00:10<00:00, 166.96batch/s, Loss = 0.5752, AUC = 76.76%]\n",
      "Epoch  38/50: 100%|██████████| 1715/1715 [00:10<00:00, 163.38batch/s, Loss = 0.5750, AUC = 76.78%]\n",
      "Epoch  39/50: 100%|██████████| 1715/1715 [00:10<00:00, 166.52batch/s, Loss = 0.5752, AUC = 76.77%]\n",
      "Epoch  40/50: 100%|██████████| 1715/1715 [00:10<00:00, 164.12batch/s, Loss = 0.5754, AUC = 76.74%]\n",
      "Epoch  41/50: 100%|██████████| 1715/1715 [00:10<00:00, 167.82batch/s, Loss = 0.5751, AUC = 76.77%]\n",
      "Epoch  42/50: 100%|██████████| 1715/1715 [00:10<00:00, 166.75batch/s, Loss = 0.5752, AUC = 76.76%]\n",
      "Epoch  43/50: 100%|██████████| 1715/1715 [00:10<00:00, 163.31batch/s, Loss = 0.5754, AUC = 76.74%]\n",
      "Epoch  44/50: 100%|██████████| 1715/1715 [00:10<00:00, 168.99batch/s, Loss = 0.5752, AUC = 76.77%]\n",
      "Epoch  45/50: 100%|██████████| 1715/1715 [00:10<00:00, 165.39batch/s, Loss = 0.5751, AUC = 76.77%]\n",
      "Epoch  46/50: 100%|██████████| 1715/1715 [00:10<00:00, 171.07batch/s, Loss = 0.5751, AUC = 76.76%]\n",
      "Epoch  47/50: 100%|██████████| 1715/1715 [00:10<00:00, 163.38batch/s, Loss = 0.5750, AUC = 76.78%]\n",
      "Epoch  48/50: 100%|██████████| 1715/1715 [00:10<00:00, 168.34batch/s, Loss = 0.5750, AUC = 76.78%]\n",
      "Epoch  49/50: 100%|██████████| 1715/1715 [00:10<00:00, 166.15batch/s, Loss = 0.5751, AUC = 76.76%]\n",
      "Epoch  50/50: 100%|██████████| 1715/1715 [00:10<00:00, 160.96batch/s, Loss = 0.5752, AUC = 76.75%]\n"
     ]
    },
    {
     "name": "stdout",
     "output_type": "stream",
     "text": [
      "Total training time = 519.98s, best validation AUC = 76.79% at epoch 26\n"
     ]
    },
    {
     "name": "stderr",
     "output_type": "stream",
     "text": [
      "Testing: 100%|██████████| 39/39 [00:01<00:00, 37.74batch/s, Loss = 0.5802, AUC = 76.50%] \n"
     ]
    },
    {
     "data": {
      "text/plain": [
       "(Array(0.58024114, dtype=float32),\n",
       " 76.49524534241823,\n",
       " array([0.        , 0.        , 0.        , ..., 0.99959424, 0.99959424,\n",
       "        1.        ]),\n",
       " array([0.00000000e+00, 1.97823937e-04, 6.33036597e-03, ...,\n",
       "        9.99802176e-01, 1.00000000e+00, 1.00000000e+00]))"
      ]
     },
     "execution_count": 5,
     "metadata": {},
     "output_type": "execute_result"
    }
   ],
   "source": [
    "model = VisionTransformer(num_classes=2, patch_size=8, hidden_size=8, num_heads=2, num_transformer_blocks=4, mlp_hidden_size=4)\n",
    "train_and_evaluate(model, ep_train_dataloader, ep_val_dataloader, ep_test_dataloader, num_classes=2, num_epochs=50)"
   ]
  }
 ],
 "metadata": {
  "kernelspec": {
   "display_name": "gsoc",
   "language": "python",
   "name": "python3"
  },
  "language_info": {
   "codemirror_mode": {
    "name": "ipython",
    "version": 3
   },
   "file_extension": ".py",
   "mimetype": "text/x-python",
   "name": "python",
   "nbconvert_exporter": "python",
   "pygments_lexer": "ipython3",
   "version": "3.11.4"
  }
 },
 "nbformat": 4,
 "nbformat_minor": 2
}
